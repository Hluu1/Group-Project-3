{
 "cells": [
  {
   "cell_type": "code",
   "execution_count": 1,
   "metadata": {},
   "outputs": [],
   "source": [
    "# import required packages/dependencies\n",
    "import pandas as pd\n",
    "import plotly.graph_objects as go\n",
    "from plotly.subplots import make_subplots"
   ]
  },
  {
   "attachments": {},
   "cell_type": "markdown",
   "metadata": {},
   "source": [
    "**Load Data**"
   ]
  },
  {
   "attachments": {},
   "cell_type": "markdown",
   "metadata": {},
   "source": [
    "sightings_state_year.csv"
   ]
  },
  {
   "cell_type": "code",
   "execution_count": 2,
   "metadata": {},
   "outputs": [
    {
     "data": {
      "text/html": [
       "<div>\n",
       "<style scoped>\n",
       "    .dataframe tbody tr th:only-of-type {\n",
       "        vertical-align: middle;\n",
       "    }\n",
       "\n",
       "    .dataframe tbody tr th {\n",
       "        vertical-align: top;\n",
       "    }\n",
       "\n",
       "    .dataframe thead th {\n",
       "        text-align: right;\n",
       "    }\n",
       "</style>\n",
       "<table border=\"1\" class=\"dataframe\">\n",
       "  <thead>\n",
       "    <tr style=\"text-align: right;\">\n",
       "      <th></th>\n",
       "      <th>state</th>\n",
       "      <th>year</th>\n",
       "      <th>Total Sightings</th>\n",
       "    </tr>\n",
       "  </thead>\n",
       "  <tbody>\n",
       "    <tr>\n",
       "      <th>0</th>\n",
       "      <td>Australian Capital Territory</td>\n",
       "      <td>1981</td>\n",
       "      <td>1</td>\n",
       "    </tr>\n",
       "    <tr>\n",
       "      <th>1</th>\n",
       "      <td>Australian Capital Territory</td>\n",
       "      <td>1992</td>\n",
       "      <td>1</td>\n",
       "    </tr>\n",
       "    <tr>\n",
       "      <th>2</th>\n",
       "      <td>Australian Capital Territory</td>\n",
       "      <td>1995</td>\n",
       "      <td>1</td>\n",
       "    </tr>\n",
       "    <tr>\n",
       "      <th>3</th>\n",
       "      <td>Australian Capital Territory</td>\n",
       "      <td>2001</td>\n",
       "      <td>1</td>\n",
       "    </tr>\n",
       "    <tr>\n",
       "      <th>4</th>\n",
       "      <td>Australian Capital Territory</td>\n",
       "      <td>2002</td>\n",
       "      <td>2</td>\n",
       "    </tr>\n",
       "  </tbody>\n",
       "</table>\n",
       "</div>"
      ],
      "text/plain": [
       "                          state  year  Total Sightings\n",
       "0  Australian Capital Territory  1981                1\n",
       "1  Australian Capital Territory  1992                1\n",
       "2  Australian Capital Territory  1995                1\n",
       "3  Australian Capital Territory  2001                1\n",
       "4  Australian Capital Territory  2002                2"
      ]
     },
     "execution_count": 2,
     "metadata": {},
     "output_type": "execute_result"
    }
   ],
   "source": [
    "# Import the csv file \n",
    "sightings = pd.read_csv(\"Resources/sightings_state_year.csv\")\n",
    "sightings.head()\n"
   ]
  },
  {
   "cell_type": "code",
   "execution_count": 5,
   "metadata": {},
   "outputs": [],
   "source": [
    "# Create figure and subplot\n",
    "fig = make_subplots(rows=1, cols=1)\n",
    "dropdown_options = sightings['state'].unique()\n",
    "\n",
    "# Define colors and markers\n",
    "colors = ['red', 'blue', 'green', 'orange', 'grey', 'purple', 'black', 'fuchsia']\n",
    "markers = ['circle', 'circle', 'circle','circle', 'circle', 'circle','circle']\n",
    "\n",
    "# Add traces for each state\n",
    "traces = []  # Initialize traces list\n",
    "for i, state in enumerate(dropdown_options):\n",
    "    x = sightings[sightings['state'] == state]['year']\n",
    "    y = sightings[sightings['state'] == state]['Total Sightings']\n",
    "    trace = go.Scatter(\n",
    "        x=x,\n",
    "        y=y,\n",
    "        mode='lines+markers',\n",
    "        name=state,\n",
    "        line=dict(color=colors[i % len(colors)]),\n",
    "        marker=dict(symbol=markers[i % len(markers)], size=8)\n",
    "    )\n",
    "    fig.add_trace(trace)\n",
    "    traces.append(trace)\n",
    "\n",
    "# Define callback function\n",
    "def update_graph(selected_state):\n",
    "    for trace in traces:\n",
    "        visible = trace.name == selected_state\n",
    "        trace.visible = visible\n",
    "\n",
    "# Create dropdown menu\n",
    "dropdown_buttons = []\n",
    "for state in dropdown_options:\n",
    "    dropdown_buttons.append(\n",
    "        dict(\n",
    "            label=state,\n",
    "            method='update',\n",
    "            args=[{'visible': [trace.name == state for trace in traces]}],\n",
    "        )\n",
    "    )\n",
    "\n",
    "fig.update_layout(\n",
    "    title='Total Sightings by State Over Time',\n",
    "    xaxis_title='Year',\n",
    "    yaxis_title='Total Sightings',\n",
    "    showlegend=False,\n",
    "    updatemenus=[dict(active=0, buttons=dropdown_buttons)]\n",
    ")\n",
    "\n",
    "# Export the graph as HTML file\n",
    "fig.write_html('total_sightings_state_year.html')"
   ]
  }
 ],
 "metadata": {
  "kernelspec": {
   "display_name": "dev2",
   "language": "python",
   "name": "python3"
  },
  "language_info": {
   "codemirror_mode": {
    "name": "ipython",
    "version": 3
   },
   "file_extension": ".py",
   "mimetype": "text/x-python",
   "name": "python",
   "nbconvert_exporter": "python",
   "pygments_lexer": "ipython3",
   "version": "3.10.10"
  },
  "orig_nbformat": 4
 },
 "nbformat": 4,
 "nbformat_minor": 2
}
