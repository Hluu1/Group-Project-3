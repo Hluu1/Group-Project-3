{
 "cells": [
  {
   "cell_type": "code",
   "execution_count": 18,
   "metadata": {},
   "outputs": [],
   "source": [
    "#import dependencies\n",
    "import pandas as pd\n",
    "from pathlib import Path\n",
    "from datetime import datetime\n",
    "import matplotlib.pyplot as plt\n",
    "import plotly.graph_objects as go\n",
    "from plotly.subplots import make_subplots\n"
   ]
  },
  {
   "cell_type": "code",
   "execution_count": 19,
   "metadata": {},
   "outputs": [
    {
     "data": {
      "text/html": [
       "<div>\n",
       "<style scoped>\n",
       "    .dataframe tbody tr th:only-of-type {\n",
       "        vertical-align: middle;\n",
       "    }\n",
       "\n",
       "    .dataframe tbody tr th {\n",
       "        vertical-align: top;\n",
       "    }\n",
       "\n",
       "    .dataframe thead th {\n",
       "        text-align: right;\n",
       "    }\n",
       "</style>\n",
       "<table border=\"1\" class=\"dataframe\">\n",
       "  <thead>\n",
       "    <tr style=\"text-align: right;\">\n",
       "      <th></th>\n",
       "      <th>country</th>\n",
       "      <th>state</th>\n",
       "      <th>city</th>\n",
       "      <th>shape</th>\n",
       "      <th>duration_hours</th>\n",
       "      <th>duration_minutes</th>\n",
       "      <th>duration_seconds</th>\n",
       "      <th>comments</th>\n",
       "      <th>date_posted</th>\n",
       "      <th>latitude</th>\n",
       "      <th>longitude</th>\n",
       "      <th>date</th>\n",
       "      <th>time</th>\n",
       "    </tr>\n",
       "  </thead>\n",
       "  <tbody>\n",
       "    <tr>\n",
       "      <th>0</th>\n",
       "      <td>au</td>\n",
       "      <td>New South Wales</td>\n",
       "      <td>sydney (nsw&amp;#44 australia)</td>\n",
       "      <td>formation</td>\n",
       "      <td>0.050000</td>\n",
       "      <td>3.0</td>\n",
       "      <td>180.0</td>\n",
       "      <td>formation and impact</td>\n",
       "      <td>20/11/2001</td>\n",
       "      <td>-33.861481</td>\n",
       "      <td>151.205475</td>\n",
       "      <td>10/10/2001</td>\n",
       "      <td>4:33:00</td>\n",
       "    </tr>\n",
       "    <tr>\n",
       "      <th>1</th>\n",
       "      <td>au</td>\n",
       "      <td>South Australia</td>\n",
       "      <td>adelaide (pt. wakefield) (south australia)</td>\n",
       "      <td>circle</td>\n",
       "      <td>0.166667</td>\n",
       "      <td>10.0</td>\n",
       "      <td>600.0</td>\n",
       "      <td>one light became 3</td>\n",
       "      <td>28/10/2002</td>\n",
       "      <td>-34.928661</td>\n",
       "      <td>138.598633</td>\n",
       "      <td>10/10/2002</td>\n",
       "      <td>4:00:00</td>\n",
       "    </tr>\n",
       "    <tr>\n",
       "      <th>2</th>\n",
       "      <td>au</td>\n",
       "      <td>Tasmania</td>\n",
       "      <td>burnie (tasmania) (australia)</td>\n",
       "      <td>cross</td>\n",
       "      <td>0.000000</td>\n",
       "      <td>0.0</td>\n",
       "      <td>0.0</td>\n",
       "      <td>the craft was large and noisy</td>\n",
       "      <td>13/07/2005</td>\n",
       "      <td>-41.055840</td>\n",
       "      <td>145.903748</td>\n",
       "      <td>10/10/2002</td>\n",
       "      <td>22:00:00</td>\n",
       "    </tr>\n",
       "    <tr>\n",
       "      <th>3</th>\n",
       "      <td>au</td>\n",
       "      <td>South Australia</td>\n",
       "      <td>adelaide  (south australia)</td>\n",
       "      <td>oval</td>\n",
       "      <td>0.083333</td>\n",
       "      <td>5.0</td>\n",
       "      <td>300.0</td>\n",
       "      <td>Dancing &amp;amp; Flashing UFO in Glenelg&amp;#44 Sout...</td>\n",
       "      <td>8/10/2007</td>\n",
       "      <td>-34.928661</td>\n",
       "      <td>138.598633</td>\n",
       "      <td>1/10/2007</td>\n",
       "      <td>2:00:00</td>\n",
       "    </tr>\n",
       "    <tr>\n",
       "      <th>4</th>\n",
       "      <td>au</td>\n",
       "      <td>Western Australia</td>\n",
       "      <td>perth (w. of; southern cross) (western australia)</td>\n",
       "      <td>fireball</td>\n",
       "      <td>0.250000</td>\n",
       "      <td>15.0</td>\n",
       "      <td>900.0</td>\n",
       "      <td>fire ball and min min</td>\n",
       "      <td>18/06/2004</td>\n",
       "      <td>-31.952240</td>\n",
       "      <td>115.861397</td>\n",
       "      <td>12/10/1975</td>\n",
       "      <td>1:00:00</td>\n",
       "    </tr>\n",
       "  </tbody>\n",
       "</table>\n",
       "</div>"
      ],
      "text/plain": [
       "  country              state  \\\n",
       "0      au    New South Wales   \n",
       "1      au    South Australia   \n",
       "2      au           Tasmania   \n",
       "3      au    South Australia   \n",
       "4      au  Western Australia   \n",
       "\n",
       "                                                city      shape  \\\n",
       "0                         sydney (nsw&#44 australia)  formation   \n",
       "1         adelaide (pt. wakefield) (south australia)     circle   \n",
       "2                      burnie (tasmania) (australia)      cross   \n",
       "3                        adelaide  (south australia)       oval   \n",
       "4  perth (w. of; southern cross) (western australia)   fireball   \n",
       "\n",
       "   duration_hours  duration_minutes  duration_seconds  \\\n",
       "0        0.050000               3.0             180.0   \n",
       "1        0.166667              10.0             600.0   \n",
       "2        0.000000               0.0               0.0   \n",
       "3        0.083333               5.0             300.0   \n",
       "4        0.250000              15.0             900.0   \n",
       "\n",
       "                                            comments date_posted   latitude  \\\n",
       "0                               formation and impact  20/11/2001 -33.861481   \n",
       "1                                 one light became 3  28/10/2002 -34.928661   \n",
       "2                      the craft was large and noisy  13/07/2005 -41.055840   \n",
       "3  Dancing &amp; Flashing UFO in Glenelg&#44 Sout...   8/10/2007 -34.928661   \n",
       "4                              fire ball and min min  18/06/2004 -31.952240   \n",
       "\n",
       "    longitude        date      time  \n",
       "0  151.205475  10/10/2001   4:33:00  \n",
       "1  138.598633  10/10/2002   4:00:00  \n",
       "2  145.903748  10/10/2002  22:00:00  \n",
       "3  138.598633   1/10/2007   2:00:00  \n",
       "4  115.861397  12/10/1975   1:00:00  "
      ]
     },
     "execution_count": 19,
     "metadata": {},
     "output_type": "execute_result"
    }
   ],
   "source": [
    "csv_file = Path(\"Resources/cleaned_ufo_au.csv\")\n",
    "TODdf = pd.read_csv(csv_file)\n",
    "TODdf.head()"
   ]
  },
  {
   "cell_type": "code",
   "execution_count": 20,
   "metadata": {},
   "outputs": [
    {
     "name": "stdout",
     "output_type": "stream",
     "text": [
      "                 state      time\n",
      "0      New South Wales   4:33:00\n",
      "1      South Australia   4:00:00\n",
      "2             Tasmania  22:00:00\n",
      "3      South Australia   2:00:00\n",
      "4    Western Australia   1:00:00\n",
      "..                 ...       ...\n",
      "572    New South Wales  23:35:00\n",
      "573  Western Australia   2:30:00\n",
      "574    New South Wales  19:30:00\n",
      "575         Queensland  19:32:00\n",
      "576           Victoria  19:01:00\n",
      "\n",
      "[577 rows x 2 columns]\n"
     ]
    }
   ],
   "source": [
    "#create df for chart \n",
    "c_columns = ['state','time']\n",
    "TOD_chart_df = TODdf[c_columns].copy()\n",
    "print(TOD_chart_df)\n"
   ]
  },
  {
   "cell_type": "code",
   "execution_count": 21,
   "metadata": {},
   "outputs": [
    {
     "name": "stdout",
     "output_type": "stream",
     "text": [
      "                            state      time  count\n",
      "0    Australian Capital Territory  13:00:00      2\n",
      "1    Australian Capital Territory  13:40:00      1\n",
      "2    Australian Capital Territory  17:00:00      1\n",
      "3    Australian Capital Territory  18:35:00      1\n",
      "4    Australian Capital Territory  19:00:00      1\n",
      "..                            ...       ...    ...\n",
      "360             Western Australia   6:10:00      1\n",
      "361             Western Australia   6:33:00      1\n",
      "362             Western Australia   7:30:00      1\n",
      "363             Western Australia   8:00:00      1\n",
      "364             Western Australia   9:00:00      1\n",
      "\n",
      "[365 rows x 3 columns]\n"
     ]
    }
   ],
   "source": [
    "#group data by state and time\n",
    "TOD_counts_df = TOD_chart_df.groupby(['state', 'time']).size().reset_index(name='count')\n",
    "print(TOD_counts_df)"
   ]
  },
  {
   "cell_type": "code",
   "execution_count": 22,
   "metadata": {},
   "outputs": [
    {
     "name": "stdout",
     "output_type": "stream",
     "text": [
      "                            state                time  count\n",
      "0    Australian Capital Territory 2023-07-10 13:00:00      2\n",
      "1    Australian Capital Territory 2023-07-10 13:40:00      1\n",
      "2    Australian Capital Territory 2023-07-10 17:00:00      1\n",
      "3    Australian Capital Territory 2023-07-10 18:35:00      1\n",
      "4    Australian Capital Territory 2023-07-10 19:00:00      1\n",
      "..                            ...                 ...    ...\n",
      "360             Western Australia 2023-07-10 06:10:00      1\n",
      "361             Western Australia 2023-07-10 06:33:00      1\n",
      "362             Western Australia 2023-07-10 07:30:00      1\n",
      "363             Western Australia 2023-07-10 08:00:00      1\n",
      "364             Western Australia 2023-07-10 09:00:00      1\n",
      "\n",
      "[365 rows x 3 columns]\n"
     ]
    }
   ],
   "source": [
    "#convert time to datetime format\n",
    "TOD_counts_df['time'] = pd.to_datetime(TOD_counts_df['time'])\n",
    "print(TOD_counts_df)"
   ]
  },
  {
   "cell_type": "code",
   "execution_count": 23,
   "metadata": {},
   "outputs": [
    {
     "name": "stdout",
     "output_type": "stream",
     "text": [
      "                            state                time  count time_bracket\n",
      "0    Australian Capital Territory 2023-07-10 13:00:00      2     13:00:00\n",
      "1    Australian Capital Territory 2023-07-10 13:40:00      1     13:00:00\n",
      "2    Australian Capital Territory 2023-07-10 17:00:00      1     17:00:00\n",
      "3    Australian Capital Territory 2023-07-10 18:35:00      1     18:00:00\n",
      "4    Australian Capital Territory 2023-07-10 19:00:00      1     19:00:00\n",
      "..                            ...                 ...    ...          ...\n",
      "360             Western Australia 2023-07-10 06:10:00      1     06:00:00\n",
      "361             Western Australia 2023-07-10 06:33:00      1     06:00:00\n",
      "362             Western Australia 2023-07-10 07:30:00      1     07:00:00\n",
      "363             Western Australia 2023-07-10 08:00:00      1     08:00:00\n",
      "364             Western Australia 2023-07-10 09:00:00      1     09:00:00\n",
      "\n",
      "[365 rows x 4 columns]\n"
     ]
    }
   ],
   "source": [
    "TOD_counts_df['time_bracket'] = TOD_counts_df['time'].dt.floor('H').dt.time\n",
    "print(TOD_counts_df)"
   ]
  },
  {
   "cell_type": "code",
   "execution_count": 28,
   "metadata": {},
   "outputs": [
    {
     "name": "stderr",
     "output_type": "stream",
     "text": [
      "C:\\Users\\Kirsty Armstrong\\AppData\\Local\\Temp\\ipykernel_25548\\1867775493.py:2: FutureWarning:\n",
      "\n",
      "The default value of numeric_only in DataFrameGroupBy.sum is deprecated. In a future version, numeric_only will default to False. Either specify numeric_only or select only columns which should be valid for the function.\n",
      "\n"
     ]
    },
    {
     "data": {
      "application/vnd.plotly.v1+json": {
       "config": {
        "plotlyServerURL": "https://plot.ly"
       },
       "data": [
        {
         "mode": "lines+markers",
         "name": "All States",
         "type": "scatter",
         "visible": true,
         "x": [
          "00:00:00",
          "01:00:00",
          "02:00:00",
          "03:00:00",
          "04:00:00",
          "05:00:00",
          "06:00:00",
          "07:00:00",
          "08:00:00",
          "09:00:00",
          "10:00:00",
          "11:00:00",
          "12:00:00",
          "13:00:00",
          "14:00:00",
          "15:00:00",
          "16:00:00",
          "17:00:00",
          "18:00:00",
          "19:00:00",
          "20:00:00",
          "21:00:00",
          "22:00:00",
          "23:00:00"
         ],
         "y": [
          47,
          26,
          28,
          13,
          11,
          10,
          9,
          6,
          11,
          6,
          10,
          9,
          18,
          11,
          12,
          9,
          16,
          12,
          27,
          38,
          75,
          54,
          65,
          54
         ]
        },
        {
         "mode": "lines+markers",
         "name": "Australian Capital Territory",
         "type": "scatter",
         "visible": false,
         "x": [
          "01:00:00",
          "02:00:00",
          "03:00:00",
          "08:00:00",
          "13:00:00",
          "17:00:00",
          "18:00:00",
          "19:00:00",
          "20:00:00",
          "21:00:00",
          "22:00:00",
          "23:00:00"
         ],
         "y": [
          1,
          1,
          1,
          1,
          3,
          1,
          1,
          1,
          2,
          3,
          1,
          2
         ]
        },
        {
         "mode": "lines+markers",
         "name": "New South Wales",
         "type": "scatter",
         "visible": false,
         "x": [
          "00:00:00",
          "01:00:00",
          "02:00:00",
          "03:00:00",
          "04:00:00",
          "05:00:00",
          "06:00:00",
          "07:00:00",
          "08:00:00",
          "09:00:00",
          "10:00:00",
          "11:00:00",
          "12:00:00",
          "13:00:00",
          "14:00:00",
          "15:00:00",
          "16:00:00",
          "17:00:00",
          "18:00:00",
          "19:00:00",
          "20:00:00",
          "21:00:00",
          "22:00:00",
          "23:00:00"
         ],
         "y": [
          10,
          2,
          11,
          3,
          5,
          2,
          2,
          3,
          6,
          1,
          4,
          2,
          5,
          2,
          2,
          2,
          6,
          3,
          12,
          10,
          20,
          13,
          25,
          14
         ]
        },
        {
         "mode": "lines+markers",
         "name": "Northern Territory",
         "type": "scatter",
         "visible": false,
         "x": [
          "00:00:00",
          "01:00:00",
          "02:00:00",
          "11:00:00",
          "16:00:00",
          "20:00:00",
          "21:00:00",
          "22:00:00"
         ],
         "y": [
          1,
          1,
          1,
          1,
          1,
          1,
          2,
          1
         ]
        },
        {
         "mode": "lines+markers",
         "name": "Queensland",
         "type": "scatter",
         "visible": false,
         "x": [
          "00:00:00",
          "01:00:00",
          "02:00:00",
          "03:00:00",
          "04:00:00",
          "08:00:00",
          "09:00:00",
          "10:00:00",
          "12:00:00",
          "13:00:00",
          "14:00:00",
          "15:00:00",
          "16:00:00",
          "17:00:00",
          "18:00:00",
          "19:00:00",
          "20:00:00",
          "21:00:00",
          "22:00:00",
          "23:00:00"
         ],
         "y": [
          8,
          3,
          4,
          2,
          1,
          2,
          1,
          3,
          7,
          2,
          3,
          1,
          3,
          5,
          3,
          12,
          14,
          8,
          10,
          11
         ]
        },
        {
         "mode": "lines+markers",
         "name": "South Australia",
         "type": "scatter",
         "visible": false,
         "x": [
          "00:00:00",
          "01:00:00",
          "02:00:00",
          "03:00:00",
          "04:00:00",
          "06:00:00",
          "07:00:00",
          "08:00:00",
          "09:00:00",
          "11:00:00",
          "14:00:00",
          "16:00:00",
          "17:00:00",
          "18:00:00",
          "19:00:00",
          "20:00:00",
          "21:00:00",
          "22:00:00",
          "23:00:00"
         ],
         "y": [
          3,
          5,
          5,
          2,
          3,
          1,
          1,
          1,
          1,
          2,
          1,
          1,
          1,
          1,
          4,
          8,
          5,
          5,
          8
         ]
        },
        {
         "mode": "lines+markers",
         "name": "Tasmania",
         "type": "scatter",
         "visible": false,
         "x": [
          "00:00:00",
          "02:00:00",
          "06:00:00",
          "09:00:00",
          "14:00:00",
          "18:00:00",
          "20:00:00",
          "22:00:00"
         ],
         "y": [
          1,
          2,
          1,
          1,
          2,
          1,
          3,
          1
         ]
        },
        {
         "mode": "lines+markers",
         "name": "Victoria",
         "type": "scatter",
         "visible": false,
         "x": [
          "00:00:00",
          "01:00:00",
          "02:00:00",
          "03:00:00",
          "04:00:00",
          "05:00:00",
          "06:00:00",
          "07:00:00",
          "09:00:00",
          "10:00:00",
          "11:00:00",
          "12:00:00",
          "13:00:00",
          "14:00:00",
          "15:00:00",
          "16:00:00",
          "18:00:00",
          "19:00:00",
          "20:00:00",
          "21:00:00",
          "22:00:00",
          "23:00:00"
         ],
         "y": [
          14,
          6,
          2,
          5,
          2,
          6,
          3,
          1,
          1,
          2,
          3,
          2,
          3,
          3,
          5,
          5,
          5,
          7,
          19,
          11,
          15,
          10
         ]
        },
        {
         "mode": "lines+markers",
         "name": "Western Australia",
         "type": "scatter",
         "visible": false,
         "x": [
          "00:00:00",
          "01:00:00",
          "02:00:00",
          "05:00:00",
          "06:00:00",
          "07:00:00",
          "08:00:00",
          "09:00:00",
          "10:00:00",
          "11:00:00",
          "12:00:00",
          "13:00:00",
          "14:00:00",
          "15:00:00",
          "17:00:00",
          "18:00:00",
          "19:00:00",
          "20:00:00",
          "21:00:00",
          "22:00:00",
          "23:00:00"
         ],
         "y": [
          10,
          8,
          2,
          2,
          2,
          1,
          1,
          1,
          1,
          1,
          4,
          1,
          1,
          1,
          2,
          4,
          4,
          8,
          12,
          7,
          9
         ]
        }
       ],
       "layout": {
        "showlegend": true,
        "template": {
         "data": {
          "bar": [
           {
            "error_x": {
             "color": "#2a3f5f"
            },
            "error_y": {
             "color": "#2a3f5f"
            },
            "marker": {
             "line": {
              "color": "#E5ECF6",
              "width": 0.5
             },
             "pattern": {
              "fillmode": "overlay",
              "size": 10,
              "solidity": 0.2
             }
            },
            "type": "bar"
           }
          ],
          "barpolar": [
           {
            "marker": {
             "line": {
              "color": "#E5ECF6",
              "width": 0.5
             },
             "pattern": {
              "fillmode": "overlay",
              "size": 10,
              "solidity": 0.2
             }
            },
            "type": "barpolar"
           }
          ],
          "carpet": [
           {
            "aaxis": {
             "endlinecolor": "#2a3f5f",
             "gridcolor": "white",
             "linecolor": "white",
             "minorgridcolor": "white",
             "startlinecolor": "#2a3f5f"
            },
            "baxis": {
             "endlinecolor": "#2a3f5f",
             "gridcolor": "white",
             "linecolor": "white",
             "minorgridcolor": "white",
             "startlinecolor": "#2a3f5f"
            },
            "type": "carpet"
           }
          ],
          "choropleth": [
           {
            "colorbar": {
             "outlinewidth": 0,
             "ticks": ""
            },
            "type": "choropleth"
           }
          ],
          "contour": [
           {
            "colorbar": {
             "outlinewidth": 0,
             "ticks": ""
            },
            "colorscale": [
             [
              0,
              "#0d0887"
             ],
             [
              0.1111111111111111,
              "#46039f"
             ],
             [
              0.2222222222222222,
              "#7201a8"
             ],
             [
              0.3333333333333333,
              "#9c179e"
             ],
             [
              0.4444444444444444,
              "#bd3786"
             ],
             [
              0.5555555555555556,
              "#d8576b"
             ],
             [
              0.6666666666666666,
              "#ed7953"
             ],
             [
              0.7777777777777778,
              "#fb9f3a"
             ],
             [
              0.8888888888888888,
              "#fdca26"
             ],
             [
              1,
              "#f0f921"
             ]
            ],
            "type": "contour"
           }
          ],
          "contourcarpet": [
           {
            "colorbar": {
             "outlinewidth": 0,
             "ticks": ""
            },
            "type": "contourcarpet"
           }
          ],
          "heatmap": [
           {
            "colorbar": {
             "outlinewidth": 0,
             "ticks": ""
            },
            "colorscale": [
             [
              0,
              "#0d0887"
             ],
             [
              0.1111111111111111,
              "#46039f"
             ],
             [
              0.2222222222222222,
              "#7201a8"
             ],
             [
              0.3333333333333333,
              "#9c179e"
             ],
             [
              0.4444444444444444,
              "#bd3786"
             ],
             [
              0.5555555555555556,
              "#d8576b"
             ],
             [
              0.6666666666666666,
              "#ed7953"
             ],
             [
              0.7777777777777778,
              "#fb9f3a"
             ],
             [
              0.8888888888888888,
              "#fdca26"
             ],
             [
              1,
              "#f0f921"
             ]
            ],
            "type": "heatmap"
           }
          ],
          "heatmapgl": [
           {
            "colorbar": {
             "outlinewidth": 0,
             "ticks": ""
            },
            "colorscale": [
             [
              0,
              "#0d0887"
             ],
             [
              0.1111111111111111,
              "#46039f"
             ],
             [
              0.2222222222222222,
              "#7201a8"
             ],
             [
              0.3333333333333333,
              "#9c179e"
             ],
             [
              0.4444444444444444,
              "#bd3786"
             ],
             [
              0.5555555555555556,
              "#d8576b"
             ],
             [
              0.6666666666666666,
              "#ed7953"
             ],
             [
              0.7777777777777778,
              "#fb9f3a"
             ],
             [
              0.8888888888888888,
              "#fdca26"
             ],
             [
              1,
              "#f0f921"
             ]
            ],
            "type": "heatmapgl"
           }
          ],
          "histogram": [
           {
            "marker": {
             "pattern": {
              "fillmode": "overlay",
              "size": 10,
              "solidity": 0.2
             }
            },
            "type": "histogram"
           }
          ],
          "histogram2d": [
           {
            "colorbar": {
             "outlinewidth": 0,
             "ticks": ""
            },
            "colorscale": [
             [
              0,
              "#0d0887"
             ],
             [
              0.1111111111111111,
              "#46039f"
             ],
             [
              0.2222222222222222,
              "#7201a8"
             ],
             [
              0.3333333333333333,
              "#9c179e"
             ],
             [
              0.4444444444444444,
              "#bd3786"
             ],
             [
              0.5555555555555556,
              "#d8576b"
             ],
             [
              0.6666666666666666,
              "#ed7953"
             ],
             [
              0.7777777777777778,
              "#fb9f3a"
             ],
             [
              0.8888888888888888,
              "#fdca26"
             ],
             [
              1,
              "#f0f921"
             ]
            ],
            "type": "histogram2d"
           }
          ],
          "histogram2dcontour": [
           {
            "colorbar": {
             "outlinewidth": 0,
             "ticks": ""
            },
            "colorscale": [
             [
              0,
              "#0d0887"
             ],
             [
              0.1111111111111111,
              "#46039f"
             ],
             [
              0.2222222222222222,
              "#7201a8"
             ],
             [
              0.3333333333333333,
              "#9c179e"
             ],
             [
              0.4444444444444444,
              "#bd3786"
             ],
             [
              0.5555555555555556,
              "#d8576b"
             ],
             [
              0.6666666666666666,
              "#ed7953"
             ],
             [
              0.7777777777777778,
              "#fb9f3a"
             ],
             [
              0.8888888888888888,
              "#fdca26"
             ],
             [
              1,
              "#f0f921"
             ]
            ],
            "type": "histogram2dcontour"
           }
          ],
          "mesh3d": [
           {
            "colorbar": {
             "outlinewidth": 0,
             "ticks": ""
            },
            "type": "mesh3d"
           }
          ],
          "parcoords": [
           {
            "line": {
             "colorbar": {
              "outlinewidth": 0,
              "ticks": ""
             }
            },
            "type": "parcoords"
           }
          ],
          "pie": [
           {
            "automargin": true,
            "type": "pie"
           }
          ],
          "scatter": [
           {
            "fillpattern": {
             "fillmode": "overlay",
             "size": 10,
             "solidity": 0.2
            },
            "type": "scatter"
           }
          ],
          "scatter3d": [
           {
            "line": {
             "colorbar": {
              "outlinewidth": 0,
              "ticks": ""
             }
            },
            "marker": {
             "colorbar": {
              "outlinewidth": 0,
              "ticks": ""
             }
            },
            "type": "scatter3d"
           }
          ],
          "scattercarpet": [
           {
            "marker": {
             "colorbar": {
              "outlinewidth": 0,
              "ticks": ""
             }
            },
            "type": "scattercarpet"
           }
          ],
          "scattergeo": [
           {
            "marker": {
             "colorbar": {
              "outlinewidth": 0,
              "ticks": ""
             }
            },
            "type": "scattergeo"
           }
          ],
          "scattergl": [
           {
            "marker": {
             "colorbar": {
              "outlinewidth": 0,
              "ticks": ""
             }
            },
            "type": "scattergl"
           }
          ],
          "scattermapbox": [
           {
            "marker": {
             "colorbar": {
              "outlinewidth": 0,
              "ticks": ""
             }
            },
            "type": "scattermapbox"
           }
          ],
          "scatterpolar": [
           {
            "marker": {
             "colorbar": {
              "outlinewidth": 0,
              "ticks": ""
             }
            },
            "type": "scatterpolar"
           }
          ],
          "scatterpolargl": [
           {
            "marker": {
             "colorbar": {
              "outlinewidth": 0,
              "ticks": ""
             }
            },
            "type": "scatterpolargl"
           }
          ],
          "scatterternary": [
           {
            "marker": {
             "colorbar": {
              "outlinewidth": 0,
              "ticks": ""
             }
            },
            "type": "scatterternary"
           }
          ],
          "surface": [
           {
            "colorbar": {
             "outlinewidth": 0,
             "ticks": ""
            },
            "colorscale": [
             [
              0,
              "#0d0887"
             ],
             [
              0.1111111111111111,
              "#46039f"
             ],
             [
              0.2222222222222222,
              "#7201a8"
             ],
             [
              0.3333333333333333,
              "#9c179e"
             ],
             [
              0.4444444444444444,
              "#bd3786"
             ],
             [
              0.5555555555555556,
              "#d8576b"
             ],
             [
              0.6666666666666666,
              "#ed7953"
             ],
             [
              0.7777777777777778,
              "#fb9f3a"
             ],
             [
              0.8888888888888888,
              "#fdca26"
             ],
             [
              1,
              "#f0f921"
             ]
            ],
            "type": "surface"
           }
          ],
          "table": [
           {
            "cells": {
             "fill": {
              "color": "#EBF0F8"
             },
             "line": {
              "color": "white"
             }
            },
            "header": {
             "fill": {
              "color": "#C8D4E3"
             },
             "line": {
              "color": "white"
             }
            },
            "type": "table"
           }
          ]
         },
         "layout": {
          "annotationdefaults": {
           "arrowcolor": "#2a3f5f",
           "arrowhead": 0,
           "arrowwidth": 1
          },
          "autotypenumbers": "strict",
          "coloraxis": {
           "colorbar": {
            "outlinewidth": 0,
            "ticks": ""
           }
          },
          "colorscale": {
           "diverging": [
            [
             0,
             "#8e0152"
            ],
            [
             0.1,
             "#c51b7d"
            ],
            [
             0.2,
             "#de77ae"
            ],
            [
             0.3,
             "#f1b6da"
            ],
            [
             0.4,
             "#fde0ef"
            ],
            [
             0.5,
             "#f7f7f7"
            ],
            [
             0.6,
             "#e6f5d0"
            ],
            [
             0.7,
             "#b8e186"
            ],
            [
             0.8,
             "#7fbc41"
            ],
            [
             0.9,
             "#4d9221"
            ],
            [
             1,
             "#276419"
            ]
           ],
           "sequential": [
            [
             0,
             "#0d0887"
            ],
            [
             0.1111111111111111,
             "#46039f"
            ],
            [
             0.2222222222222222,
             "#7201a8"
            ],
            [
             0.3333333333333333,
             "#9c179e"
            ],
            [
             0.4444444444444444,
             "#bd3786"
            ],
            [
             0.5555555555555556,
             "#d8576b"
            ],
            [
             0.6666666666666666,
             "#ed7953"
            ],
            [
             0.7777777777777778,
             "#fb9f3a"
            ],
            [
             0.8888888888888888,
             "#fdca26"
            ],
            [
             1,
             "#f0f921"
            ]
           ],
           "sequentialminus": [
            [
             0,
             "#0d0887"
            ],
            [
             0.1111111111111111,
             "#46039f"
            ],
            [
             0.2222222222222222,
             "#7201a8"
            ],
            [
             0.3333333333333333,
             "#9c179e"
            ],
            [
             0.4444444444444444,
             "#bd3786"
            ],
            [
             0.5555555555555556,
             "#d8576b"
            ],
            [
             0.6666666666666666,
             "#ed7953"
            ],
            [
             0.7777777777777778,
             "#fb9f3a"
            ],
            [
             0.8888888888888888,
             "#fdca26"
            ],
            [
             1,
             "#f0f921"
            ]
           ]
          },
          "colorway": [
           "#636efa",
           "#EF553B",
           "#00cc96",
           "#ab63fa",
           "#FFA15A",
           "#19d3f3",
           "#FF6692",
           "#B6E880",
           "#FF97FF",
           "#FECB52"
          ],
          "font": {
           "color": "#2a3f5f"
          },
          "geo": {
           "bgcolor": "white",
           "lakecolor": "white",
           "landcolor": "#E5ECF6",
           "showlakes": true,
           "showland": true,
           "subunitcolor": "white"
          },
          "hoverlabel": {
           "align": "left"
          },
          "hovermode": "closest",
          "mapbox": {
           "style": "light"
          },
          "paper_bgcolor": "white",
          "plot_bgcolor": "#E5ECF6",
          "polar": {
           "angularaxis": {
            "gridcolor": "white",
            "linecolor": "white",
            "ticks": ""
           },
           "bgcolor": "#E5ECF6",
           "radialaxis": {
            "gridcolor": "white",
            "linecolor": "white",
            "ticks": ""
           }
          },
          "scene": {
           "xaxis": {
            "backgroundcolor": "#E5ECF6",
            "gridcolor": "white",
            "gridwidth": 2,
            "linecolor": "white",
            "showbackground": true,
            "ticks": "",
            "zerolinecolor": "white"
           },
           "yaxis": {
            "backgroundcolor": "#E5ECF6",
            "gridcolor": "white",
            "gridwidth": 2,
            "linecolor": "white",
            "showbackground": true,
            "ticks": "",
            "zerolinecolor": "white"
           },
           "zaxis": {
            "backgroundcolor": "#E5ECF6",
            "gridcolor": "white",
            "gridwidth": 2,
            "linecolor": "white",
            "showbackground": true,
            "ticks": "",
            "zerolinecolor": "white"
           }
          },
          "shapedefaults": {
           "line": {
            "color": "#2a3f5f"
           }
          },
          "ternary": {
           "aaxis": {
            "gridcolor": "white",
            "linecolor": "white",
            "ticks": ""
           },
           "baxis": {
            "gridcolor": "white",
            "linecolor": "white",
            "ticks": ""
           },
           "bgcolor": "#E5ECF6",
           "caxis": {
            "gridcolor": "white",
            "linecolor": "white",
            "ticks": ""
           }
          },
          "title": {
           "x": 0.05
          },
          "xaxis": {
           "automargin": true,
           "gridcolor": "white",
           "linecolor": "white",
           "ticks": "",
           "title": {
            "standoff": 15
           },
           "zerolinecolor": "white",
           "zerolinewidth": 2
          },
          "yaxis": {
           "automargin": true,
           "gridcolor": "white",
           "linecolor": "white",
           "ticks": "",
           "title": {
            "standoff": 15
           },
           "zerolinecolor": "white",
           "zerolinewidth": 2
          }
         }
        },
        "title": {
         "text": "Sightings by Time Bracket"
        },
        "updatemenus": [
         {
          "buttons": [
           {
            "args": [
             {
              "visible": [
               true,
               true,
               true,
               true,
               true,
               true,
               true,
               true,
               true
              ]
             }
            ],
            "label": "All States",
            "method": "update"
           },
           {
            "args": [
             {
              "visible": [
               false,
               true,
               false,
               false,
               false,
               false,
               false,
               false,
               false
              ]
             }
            ],
            "label": "Australian Capital Territory",
            "method": "update"
           },
           {
            "args": [
             {
              "visible": [
               false,
               false,
               true,
               false,
               false,
               false,
               false,
               false,
               false
              ]
             }
            ],
            "label": "New South Wales",
            "method": "update"
           },
           {
            "args": [
             {
              "visible": [
               false,
               false,
               false,
               true,
               false,
               false,
               false,
               false,
               false
              ]
             }
            ],
            "label": "Northern Territory",
            "method": "update"
           },
           {
            "args": [
             {
              "visible": [
               false,
               false,
               false,
               false,
               true,
               false,
               false,
               false,
               false
              ]
             }
            ],
            "label": "Queensland",
            "method": "update"
           },
           {
            "args": [
             {
              "visible": [
               false,
               false,
               false,
               false,
               false,
               true,
               false,
               false,
               false
              ]
             }
            ],
            "label": "South Australia",
            "method": "update"
           },
           {
            "args": [
             {
              "visible": [
               false,
               false,
               false,
               false,
               false,
               false,
               true,
               false,
               false
              ]
             }
            ],
            "label": "Tasmania",
            "method": "update"
           },
           {
            "args": [
             {
              "visible": [
               false,
               false,
               false,
               false,
               false,
               false,
               false,
               true,
               false
              ]
             }
            ],
            "label": "Victoria",
            "method": "update"
           },
           {
            "args": [
             {
              "visible": [
               false,
               false,
               false,
               false,
               false,
               false,
               false,
               false,
               true
              ]
             }
            ],
            "label": "Western Australia",
            "method": "update"
           }
          ],
          "direction": "down",
          "showactive": true,
          "x": 0.1,
          "y": 1.15
         }
        ],
        "xaxis": {
         "title": {
          "text": "Time Bracket"
         }
        },
        "yaxis": {
         "title": {
          "text": "Count"
         }
        }
       }
      }
     },
     "metadata": {},
     "output_type": "display_data"
    }
   ],
   "source": [
    "# Group the data by state and time bracket and calculate the count of sightings\n",
    "grouped_data = TOD_counts_df.groupby(['state', 'time_bracket']).sum().reset_index()\n",
    "\n",
    "# Create dropdown options for states including \"All States\"\n",
    "dropdown_options = ['All States'] + grouped_data['state'].unique().tolist()\n",
    "\n",
    "# Create figure\n",
    "fig = go.Figure()\n",
    "\n",
    "# Add traces for each state\n",
    "for state in dropdown_options:\n",
    "    if state == 'All States':\n",
    "        state_data = grouped_data.groupby('time_bracket')['count'].sum().reset_index()\n",
    "        name = state\n",
    "    else:\n",
    "        state_data = grouped_data[grouped_data['state'] == state]\n",
    "        name = state\n",
    "    fig.add_trace(go.Scatter(\n",
    "        x=state_data['time_bracket'],\n",
    "        y=state_data['count'],\n",
    "        mode='lines+markers',\n",
    "        name=name,\n",
    "        visible=(state == 'All States')\n",
    "    ))\n",
    "\n",
    "# Update layout\n",
    "fig.update_layout(\n",
    "    title='Sightings by Time Bracket',\n",
    "    xaxis_title='Time Bracket',\n",
    "    yaxis_title='Count',\n",
    "    showlegend=True,\n",
    "    updatemenus=[\n",
    "        dict(\n",
    "            buttons=[\n",
    "                dict(\n",
    "                    label=state,\n",
    "                    method='update',\n",
    "                    args=[{'visible': [state == trace.name or state == 'All States' for trace in fig.data]}],\n",
    "                )\n",
    "                for state in dropdown_options\n",
    "            ],\n",
    "            direction=\"down\",\n",
    "            showactive=True,\n",
    "            x=0.1,\n",
    "            y=1.15\n",
    "        )\n",
    "    ]\n",
    ")\n",
    "\n",
    "# Show the figure and save as a html file\n",
    "fig.write_html('TOD.html')\n",
    "fig.show()\n",
    "\n"
   ]
  }
 ],
 "metadata": {
  "kernelspec": {
   "display_name": "dev2",
   "language": "python",
   "name": "python3"
  },
  "language_info": {
   "codemirror_mode": {
    "name": "ipython",
    "version": 3
   },
   "file_extension": ".py",
   "mimetype": "text/x-python",
   "name": "python",
   "nbconvert_exporter": "python",
   "pygments_lexer": "ipython3",
   "version": "3.10.10"
  },
  "orig_nbformat": 4
 },
 "nbformat": 4,
 "nbformat_minor": 2
}
