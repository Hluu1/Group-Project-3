{
 "cells": [
  {
   "cell_type": "code",
   "execution_count": 4,
   "metadata": {},
   "outputs": [],
   "source": [
    "# import required packages/dependencies\n",
    "import pandas as pd\n",
    "import numpy as np\n",
    "import matplotlib.pyplot as plt\n",
    "from datetime import datetime\n",
    "import re"
   ]
  },
  {
   "attachments": {},
   "cell_type": "markdown",
   "metadata": {},
   "source": [
    "**Load Data**"
   ]
  },
  {
   "cell_type": "code",
   "execution_count": 2,
   "metadata": {},
   "outputs": [
    {
     "name": "stderr",
     "output_type": "stream",
     "text": [
      "C:\\Users\\61450\\AppData\\Local\\Temp\\ipykernel_20600\\2261874967.py:2: DtypeWarning: Columns (5) have mixed types. Specify dtype option on import or set low_memory=False.\n",
      "  ufo = pd.read_csv(\"Resources/complete.csv\")\n"
     ]
    },
    {
     "data": {
      "text/html": [
       "<div>\n",
       "<style scoped>\n",
       "    .dataframe tbody tr th:only-of-type {\n",
       "        vertical-align: middle;\n",
       "    }\n",
       "\n",
       "    .dataframe tbody tr th {\n",
       "        vertical-align: top;\n",
       "    }\n",
       "\n",
       "    .dataframe thead th {\n",
       "        text-align: right;\n",
       "    }\n",
       "</style>\n",
       "<table border=\"1\" class=\"dataframe\">\n",
       "  <thead>\n",
       "    <tr style=\"text-align: right;\">\n",
       "      <th></th>\n",
       "      <th>datetime</th>\n",
       "      <th>city</th>\n",
       "      <th>state</th>\n",
       "      <th>country</th>\n",
       "      <th>shape</th>\n",
       "      <th>duration (seconds)</th>\n",
       "      <th>duration (hours/min)</th>\n",
       "      <th>comments</th>\n",
       "      <th>date posted</th>\n",
       "      <th>latitude</th>\n",
       "      <th>longitude</th>\n",
       "    </tr>\n",
       "  </thead>\n",
       "  <tbody>\n",
       "    <tr>\n",
       "      <th>0</th>\n",
       "      <td>10/10/1949 20:30</td>\n",
       "      <td>san marcos</td>\n",
       "      <td>tx</td>\n",
       "      <td>us</td>\n",
       "      <td>cylinder</td>\n",
       "      <td>2700</td>\n",
       "      <td>45 minutes</td>\n",
       "      <td>This event took place in early fall around 194...</td>\n",
       "      <td>4/27/2004</td>\n",
       "      <td>29.8830556</td>\n",
       "      <td>-97.941111</td>\n",
       "    </tr>\n",
       "    <tr>\n",
       "      <th>1</th>\n",
       "      <td>10/10/1949 21:00</td>\n",
       "      <td>lackland afb</td>\n",
       "      <td>tx</td>\n",
       "      <td>NaN</td>\n",
       "      <td>light</td>\n",
       "      <td>7200</td>\n",
       "      <td>1-2 hrs</td>\n",
       "      <td>1949 Lackland AFB&amp;#44 TX.  Lights racing acros...</td>\n",
       "      <td>12/16/2005</td>\n",
       "      <td>29.38421</td>\n",
       "      <td>-98.581082</td>\n",
       "    </tr>\n",
       "    <tr>\n",
       "      <th>2</th>\n",
       "      <td>10/10/1955 17:00</td>\n",
       "      <td>chester (uk/england)</td>\n",
       "      <td>NaN</td>\n",
       "      <td>gb</td>\n",
       "      <td>circle</td>\n",
       "      <td>20</td>\n",
       "      <td>20 seconds</td>\n",
       "      <td>Green/Orange circular disc over Chester&amp;#44 En...</td>\n",
       "      <td>1/21/2008</td>\n",
       "      <td>53.2</td>\n",
       "      <td>-2.916667</td>\n",
       "    </tr>\n",
       "    <tr>\n",
       "      <th>3</th>\n",
       "      <td>10/10/1956 21:00</td>\n",
       "      <td>edna</td>\n",
       "      <td>tx</td>\n",
       "      <td>us</td>\n",
       "      <td>circle</td>\n",
       "      <td>20</td>\n",
       "      <td>1/2 hour</td>\n",
       "      <td>My older brother and twin sister were leaving ...</td>\n",
       "      <td>1/17/2004</td>\n",
       "      <td>28.9783333</td>\n",
       "      <td>-96.645833</td>\n",
       "    </tr>\n",
       "    <tr>\n",
       "      <th>4</th>\n",
       "      <td>10/10/1960 20:00</td>\n",
       "      <td>kaneohe</td>\n",
       "      <td>hi</td>\n",
       "      <td>us</td>\n",
       "      <td>light</td>\n",
       "      <td>900</td>\n",
       "      <td>15 minutes</td>\n",
       "      <td>AS a Marine 1st Lt. flying an FJ4B fighter/att...</td>\n",
       "      <td>1/22/2004</td>\n",
       "      <td>21.4180556</td>\n",
       "      <td>-157.803611</td>\n",
       "    </tr>\n",
       "  </tbody>\n",
       "</table>\n",
       "</div>"
      ],
      "text/plain": [
       "           datetime                  city state country     shape  \\\n",
       "0  10/10/1949 20:30            san marcos    tx      us  cylinder   \n",
       "1  10/10/1949 21:00          lackland afb    tx     NaN     light   \n",
       "2  10/10/1955 17:00  chester (uk/england)   NaN      gb    circle   \n",
       "3  10/10/1956 21:00                  edna    tx      us    circle   \n",
       "4  10/10/1960 20:00               kaneohe    hi      us     light   \n",
       "\n",
       "  duration (seconds) duration (hours/min)  \\\n",
       "0               2700           45 minutes   \n",
       "1               7200              1-2 hrs   \n",
       "2                 20           20 seconds   \n",
       "3                 20             1/2 hour   \n",
       "4                900           15 minutes   \n",
       "\n",
       "                                            comments date posted    latitude  \\\n",
       "0  This event took place in early fall around 194...   4/27/2004  29.8830556   \n",
       "1  1949 Lackland AFB&#44 TX.  Lights racing acros...  12/16/2005    29.38421   \n",
       "2  Green/Orange circular disc over Chester&#44 En...   1/21/2008        53.2   \n",
       "3  My older brother and twin sister were leaving ...   1/17/2004  28.9783333   \n",
       "4  AS a Marine 1st Lt. flying an FJ4B fighter/att...   1/22/2004  21.4180556   \n",
       "\n",
       "    longitude  \n",
       "0  -97.941111  \n",
       "1  -98.581082  \n",
       "2   -2.916667  \n",
       "3  -96.645833  \n",
       "4 -157.803611  "
      ]
     },
     "execution_count": 2,
     "metadata": {},
     "output_type": "execute_result"
    }
   ],
   "source": [
    "# Import the csv file \n",
    "ufo = pd.read_csv(\"Resources/complete.csv\")\n",
    "ufo.head()\n"
   ]
  },
  {
   "cell_type": "code",
   "execution_count": 3,
   "metadata": {},
   "outputs": [
    {
     "data": {
      "text/plain": [
       "(88875, 11)"
      ]
     },
     "execution_count": 3,
     "metadata": {},
     "output_type": "execute_result"
    }
   ],
   "source": [
    "ufo.shape"
   ]
  },
  {
   "cell_type": "code",
   "execution_count": 4,
   "metadata": {},
   "outputs": [
    {
     "name": "stdout",
     "output_type": "stream",
     "text": [
      "<class 'pandas.core.frame.DataFrame'>\n",
      "RangeIndex: 88875 entries, 0 to 88874\n",
      "Data columns (total 11 columns):\n",
      " #   Column                Non-Null Count  Dtype  \n",
      "---  ------                --------------  -----  \n",
      " 0   datetime              88875 non-null  object \n",
      " 1   city                  88679 non-null  object \n",
      " 2   state                 81356 non-null  object \n",
      " 3   country               76314 non-null  object \n",
      " 4   shape                 85757 non-null  object \n",
      " 5   duration (seconds)    88873 non-null  object \n",
      " 6   duration (hours/min)  85772 non-null  object \n",
      " 7   comments              88749 non-null  object \n",
      " 8   date posted           88875 non-null  object \n",
      " 9   latitude              88875 non-null  object \n",
      " 10  longitude             88875 non-null  float64\n",
      "dtypes: float64(1), object(10)\n",
      "memory usage: 7.5+ MB\n"
     ]
    }
   ],
   "source": [
    "ufo.info()"
   ]
  },
  {
   "attachments": {},
   "cell_type": "markdown",
   "metadata": {},
   "source": [
    "**Data Cleaning **\n"
   ]
  },
  {
   "cell_type": "code",
   "execution_count": 5,
   "metadata": {},
   "outputs": [
    {
     "data": {
      "text/html": [
       "<div>\n",
       "<style scoped>\n",
       "    .dataframe tbody tr th:only-of-type {\n",
       "        vertical-align: middle;\n",
       "    }\n",
       "\n",
       "    .dataframe tbody tr th {\n",
       "        vertical-align: top;\n",
       "    }\n",
       "\n",
       "    .dataframe thead th {\n",
       "        text-align: right;\n",
       "    }\n",
       "</style>\n",
       "<table border=\"1\" class=\"dataframe\">\n",
       "  <thead>\n",
       "    <tr style=\"text-align: right;\">\n",
       "      <th></th>\n",
       "      <th>datetime</th>\n",
       "      <th>city</th>\n",
       "      <th>state</th>\n",
       "      <th>country</th>\n",
       "      <th>shape</th>\n",
       "      <th>duration (seconds)</th>\n",
       "      <th>duration (hours/min)</th>\n",
       "      <th>comments</th>\n",
       "      <th>date posted</th>\n",
       "      <th>latitude</th>\n",
       "      <th>longitude</th>\n",
       "      <th>date</th>\n",
       "      <th>time</th>\n",
       "    </tr>\n",
       "  </thead>\n",
       "  <tbody>\n",
       "    <tr>\n",
       "      <th>0</th>\n",
       "      <td>1949-10-10 20:30:00</td>\n",
       "      <td>san marcos</td>\n",
       "      <td>tx</td>\n",
       "      <td>us</td>\n",
       "      <td>cylinder</td>\n",
       "      <td>2700</td>\n",
       "      <td>45 minutes</td>\n",
       "      <td>This event took place in early fall around 194...</td>\n",
       "      <td>4/27/2004</td>\n",
       "      <td>29.8830556</td>\n",
       "      <td>-97.941111</td>\n",
       "      <td>1949-10-10</td>\n",
       "      <td>20:30:00</td>\n",
       "    </tr>\n",
       "    <tr>\n",
       "      <th>1</th>\n",
       "      <td>1949-10-10 21:00:00</td>\n",
       "      <td>lackland afb</td>\n",
       "      <td>tx</td>\n",
       "      <td>NaN</td>\n",
       "      <td>light</td>\n",
       "      <td>7200</td>\n",
       "      <td>1-2 hrs</td>\n",
       "      <td>1949 Lackland AFB&amp;#44 TX.  Lights racing acros...</td>\n",
       "      <td>12/16/2005</td>\n",
       "      <td>29.38421</td>\n",
       "      <td>-98.581082</td>\n",
       "      <td>1949-10-10</td>\n",
       "      <td>21:00:00</td>\n",
       "    </tr>\n",
       "    <tr>\n",
       "      <th>2</th>\n",
       "      <td>1955-10-10 17:00:00</td>\n",
       "      <td>chester (uk/england)</td>\n",
       "      <td>NaN</td>\n",
       "      <td>gb</td>\n",
       "      <td>circle</td>\n",
       "      <td>20</td>\n",
       "      <td>20 seconds</td>\n",
       "      <td>Green/Orange circular disc over Chester&amp;#44 En...</td>\n",
       "      <td>1/21/2008</td>\n",
       "      <td>53.2</td>\n",
       "      <td>-2.916667</td>\n",
       "      <td>1955-10-10</td>\n",
       "      <td>17:00:00</td>\n",
       "    </tr>\n",
       "    <tr>\n",
       "      <th>3</th>\n",
       "      <td>1956-10-10 21:00:00</td>\n",
       "      <td>edna</td>\n",
       "      <td>tx</td>\n",
       "      <td>us</td>\n",
       "      <td>circle</td>\n",
       "      <td>20</td>\n",
       "      <td>1/2 hour</td>\n",
       "      <td>My older brother and twin sister were leaving ...</td>\n",
       "      <td>1/17/2004</td>\n",
       "      <td>28.9783333</td>\n",
       "      <td>-96.645833</td>\n",
       "      <td>1956-10-10</td>\n",
       "      <td>21:00:00</td>\n",
       "    </tr>\n",
       "    <tr>\n",
       "      <th>4</th>\n",
       "      <td>1960-10-10 20:00:00</td>\n",
       "      <td>kaneohe</td>\n",
       "      <td>hi</td>\n",
       "      <td>us</td>\n",
       "      <td>light</td>\n",
       "      <td>900</td>\n",
       "      <td>15 minutes</td>\n",
       "      <td>AS a Marine 1st Lt. flying an FJ4B fighter/att...</td>\n",
       "      <td>1/22/2004</td>\n",
       "      <td>21.4180556</td>\n",
       "      <td>-157.803611</td>\n",
       "      <td>1960-10-10</td>\n",
       "      <td>20:00:00</td>\n",
       "    </tr>\n",
       "  </tbody>\n",
       "</table>\n",
       "</div>"
      ],
      "text/plain": [
       "             datetime                  city state country     shape  \\\n",
       "0 1949-10-10 20:30:00            san marcos    tx      us  cylinder   \n",
       "1 1949-10-10 21:00:00          lackland afb    tx     NaN     light   \n",
       "2 1955-10-10 17:00:00  chester (uk/england)   NaN      gb    circle   \n",
       "3 1956-10-10 21:00:00                  edna    tx      us    circle   \n",
       "4 1960-10-10 20:00:00               kaneohe    hi      us     light   \n",
       "\n",
       "  duration (seconds) duration (hours/min)  \\\n",
       "0               2700           45 minutes   \n",
       "1               7200              1-2 hrs   \n",
       "2                 20           20 seconds   \n",
       "3                 20             1/2 hour   \n",
       "4                900           15 minutes   \n",
       "\n",
       "                                            comments date posted    latitude  \\\n",
       "0  This event took place in early fall around 194...   4/27/2004  29.8830556   \n",
       "1  1949 Lackland AFB&#44 TX.  Lights racing acros...  12/16/2005    29.38421   \n",
       "2  Green/Orange circular disc over Chester&#44 En...   1/21/2008        53.2   \n",
       "3  My older brother and twin sister were leaving ...   1/17/2004  28.9783333   \n",
       "4  AS a Marine 1st Lt. flying an FJ4B fighter/att...   1/22/2004  21.4180556   \n",
       "\n",
       "    longitude        date      time  \n",
       "0  -97.941111  1949-10-10  20:30:00  \n",
       "1  -98.581082  1949-10-10  21:00:00  \n",
       "2   -2.916667  1955-10-10  17:00:00  \n",
       "3  -96.645833  1956-10-10  21:00:00  \n",
       "4 -157.803611  1960-10-10  20:00:00  "
      ]
     },
     "execution_count": 5,
     "metadata": {},
     "output_type": "execute_result"
    }
   ],
   "source": [
    "# check data types\n",
    "\n",
    "# Replace '24:00' with '00:00' in the datetime column\n",
    "ufo['datetime'] = ufo['datetime'].str.replace('24:00', '00:00')\n",
    "\n",
    "# Convert the 'datetime' column to datetime type\n",
    "ufo['datetime'] = pd.to_datetime(ufo['datetime'])\n",
    "\n",
    "# Split the datetime column into separate date and time columns\n",
    "ufo['date'] = ufo['datetime'].dt.date\n",
    "ufo['time'] = ufo['datetime'].dt.time\n",
    "\n",
    "# Print the modified dataframe\n",
    "ufo.head()"
   ]
  },
  {
   "cell_type": "code",
   "execution_count": 6,
   "metadata": {},
   "outputs": [
    {
     "name": "stderr",
     "output_type": "stream",
     "text": [
      "C:\\Users\\61450\\AppData\\Local\\Temp\\ipykernel_20600\\1632113840.py:6: SettingWithCopyWarning: \n",
      "A value is trying to be set on a copy of a slice from a DataFrame\n",
      "\n",
      "See the caveats in the documentation: https://pandas.pydata.org/pandas-docs/stable/user_guide/indexing.html#returning-a-view-versus-a-copy\n",
      "  ufo['duration (minutes)'].iloc[i] = float(ufo['duration (seconds)'].iloc[i]) / 60\n",
      "C:\\Users\\61450\\AppData\\Local\\Temp\\ipykernel_20600\\1632113840.py:7: SettingWithCopyWarning: \n",
      "A value is trying to be set on a copy of a slice from a DataFrame\n",
      "\n",
      "See the caveats in the documentation: https://pandas.pydata.org/pandas-docs/stable/user_guide/indexing.html#returning-a-view-versus-a-copy\n",
      "  ufo['duration (hours)'].iloc[i] = float(ufo['duration (seconds)'].iloc[i]) / 3600\n",
      "C:\\Users\\61450\\AppData\\Local\\Temp\\ipykernel_20600\\1632113840.py:10: SettingWithCopyWarning: \n",
      "A value is trying to be set on a copy of a slice from a DataFrame\n",
      "\n",
      "See the caveats in the documentation: https://pandas.pydata.org/pandas-docs/stable/user_guide/indexing.html#returning-a-view-versus-a-copy\n",
      "  ufo['duration (seconds)'].iloc[i] = re.sub(r\"[^0-9.]\", \"\", ufo['duration (seconds)'].iloc[i])\n",
      "C:\\Users\\61450\\AppData\\Local\\Temp\\ipykernel_20600\\1632113840.py:11: SettingWithCopyWarning: \n",
      "A value is trying to be set on a copy of a slice from a DataFrame\n",
      "\n",
      "See the caveats in the documentation: https://pandas.pydata.org/pandas-docs/stable/user_guide/indexing.html#returning-a-view-versus-a-copy\n",
      "  ufo['duration (minutes)'].iloc[i] = float(ufo['duration (seconds)'].iloc[i]) / 60\n",
      "C:\\Users\\61450\\AppData\\Local\\Temp\\ipykernel_20600\\1632113840.py:12: SettingWithCopyWarning: \n",
      "A value is trying to be set on a copy of a slice from a DataFrame\n",
      "\n",
      "See the caveats in the documentation: https://pandas.pydata.org/pandas-docs/stable/user_guide/indexing.html#returning-a-view-versus-a-copy\n",
      "  ufo['duration (hours)'].iloc[i] = float(ufo['duration (seconds)'].iloc[i]) / 3600\n"
     ]
    }
   ],
   "source": [
    "# create \"duration (minutes)\" and \"duration (hours)\" columns\n",
    "ufo['duration (minutes)'] = np.nan\n",
    "ufo['duration (hours)'] = np.nan\n",
    "for i in range(len(ufo['duration (seconds)'])):\n",
    "    try:\n",
    "        ufo['duration (minutes)'].iloc[i] = float(ufo['duration (seconds)'].iloc[i]) / 60\n",
    "        ufo['duration (hours)'].iloc[i] = float(ufo['duration (seconds)'].iloc[i]) / 3600\n",
    "    except:\n",
    "        # Remove all characters except numbers and dots\n",
    "        ufo['duration (seconds)'].iloc[i] = re.sub(r\"[^0-9.]\", \"\", ufo['duration (seconds)'].iloc[i])\n",
    "        ufo['duration (minutes)'].iloc[i] = float(ufo['duration (seconds)'].iloc[i]) / 60\n",
    "        ufo['duration (hours)'].iloc[i] = float(ufo['duration (seconds)'].iloc[i]) / 3600"
   ]
  },
  {
   "cell_type": "code",
   "execution_count": 7,
   "metadata": {},
   "outputs": [
    {
     "name": "stdout",
     "output_type": "stream",
     "text": [
      "2\n",
      "2\n"
     ]
    }
   ],
   "source": [
    "print(ufo['duration (minutes)'].isnull().sum())\n",
    "print(ufo['duration (hours)'].isnull().sum())"
   ]
  },
  {
   "cell_type": "code",
   "execution_count": 8,
   "metadata": {},
   "outputs": [],
   "source": [
    "# now we do not need to the \"duration (hours/min)\" column\n",
    "ufo = ufo.drop(['duration (hours/min)'], axis=1)"
   ]
  },
  {
   "cell_type": "code",
   "execution_count": 9,
   "metadata": {},
   "outputs": [
    {
     "data": {
      "text/html": [
       "<div>\n",
       "<style scoped>\n",
       "    .dataframe tbody tr th:only-of-type {\n",
       "        vertical-align: middle;\n",
       "    }\n",
       "\n",
       "    .dataframe tbody tr th {\n",
       "        vertical-align: top;\n",
       "    }\n",
       "\n",
       "    .dataframe thead th {\n",
       "        text-align: right;\n",
       "    }\n",
       "</style>\n",
       "<table border=\"1\" class=\"dataframe\">\n",
       "  <thead>\n",
       "    <tr style=\"text-align: right;\">\n",
       "      <th></th>\n",
       "      <th>datetime</th>\n",
       "      <th>city</th>\n",
       "      <th>state</th>\n",
       "      <th>country</th>\n",
       "      <th>shape</th>\n",
       "      <th>duration (seconds)</th>\n",
       "      <th>comments</th>\n",
       "      <th>date posted</th>\n",
       "      <th>latitude</th>\n",
       "      <th>longitude</th>\n",
       "      <th>date</th>\n",
       "      <th>time</th>\n",
       "      <th>duration (minutes)</th>\n",
       "      <th>duration (hours)</th>\n",
       "    </tr>\n",
       "  </thead>\n",
       "  <tbody>\n",
       "    <tr>\n",
       "      <th>0</th>\n",
       "      <td>1949-10-10 20:30:00</td>\n",
       "      <td>san marcos</td>\n",
       "      <td>tx</td>\n",
       "      <td>us</td>\n",
       "      <td>cylinder</td>\n",
       "      <td>2700</td>\n",
       "      <td>This event took place in early fall around 194...</td>\n",
       "      <td>2004-04-27</td>\n",
       "      <td>29.8830556</td>\n",
       "      <td>-97.941111</td>\n",
       "      <td>1949-10-10</td>\n",
       "      <td>20:30:00</td>\n",
       "      <td>45.000000</td>\n",
       "      <td>0.750000</td>\n",
       "    </tr>\n",
       "    <tr>\n",
       "      <th>1</th>\n",
       "      <td>1949-10-10 21:00:00</td>\n",
       "      <td>lackland afb</td>\n",
       "      <td>tx</td>\n",
       "      <td>NaN</td>\n",
       "      <td>light</td>\n",
       "      <td>7200</td>\n",
       "      <td>1949 Lackland AFB&amp;#44 TX.  Lights racing acros...</td>\n",
       "      <td>2005-12-16</td>\n",
       "      <td>29.38421</td>\n",
       "      <td>-98.581082</td>\n",
       "      <td>1949-10-10</td>\n",
       "      <td>21:00:00</td>\n",
       "      <td>120.000000</td>\n",
       "      <td>2.000000</td>\n",
       "    </tr>\n",
       "    <tr>\n",
       "      <th>2</th>\n",
       "      <td>1955-10-10 17:00:00</td>\n",
       "      <td>chester (uk/england)</td>\n",
       "      <td>NaN</td>\n",
       "      <td>gb</td>\n",
       "      <td>circle</td>\n",
       "      <td>20</td>\n",
       "      <td>Green/Orange circular disc over Chester&amp;#44 En...</td>\n",
       "      <td>2008-01-21</td>\n",
       "      <td>53.2</td>\n",
       "      <td>-2.916667</td>\n",
       "      <td>1955-10-10</td>\n",
       "      <td>17:00:00</td>\n",
       "      <td>0.333333</td>\n",
       "      <td>0.005556</td>\n",
       "    </tr>\n",
       "    <tr>\n",
       "      <th>3</th>\n",
       "      <td>1956-10-10 21:00:00</td>\n",
       "      <td>edna</td>\n",
       "      <td>tx</td>\n",
       "      <td>us</td>\n",
       "      <td>circle</td>\n",
       "      <td>20</td>\n",
       "      <td>My older brother and twin sister were leaving ...</td>\n",
       "      <td>2004-01-17</td>\n",
       "      <td>28.9783333</td>\n",
       "      <td>-96.645833</td>\n",
       "      <td>1956-10-10</td>\n",
       "      <td>21:00:00</td>\n",
       "      <td>0.333333</td>\n",
       "      <td>0.005556</td>\n",
       "    </tr>\n",
       "    <tr>\n",
       "      <th>4</th>\n",
       "      <td>1960-10-10 20:00:00</td>\n",
       "      <td>kaneohe</td>\n",
       "      <td>hi</td>\n",
       "      <td>us</td>\n",
       "      <td>light</td>\n",
       "      <td>900</td>\n",
       "      <td>AS a Marine 1st Lt. flying an FJ4B fighter/att...</td>\n",
       "      <td>2004-01-22</td>\n",
       "      <td>21.4180556</td>\n",
       "      <td>-157.803611</td>\n",
       "      <td>1960-10-10</td>\n",
       "      <td>20:00:00</td>\n",
       "      <td>15.000000</td>\n",
       "      <td>0.250000</td>\n",
       "    </tr>\n",
       "  </tbody>\n",
       "</table>\n",
       "</div>"
      ],
      "text/plain": [
       "             datetime                  city state country     shape  \\\n",
       "0 1949-10-10 20:30:00            san marcos    tx      us  cylinder   \n",
       "1 1949-10-10 21:00:00          lackland afb    tx     NaN     light   \n",
       "2 1955-10-10 17:00:00  chester (uk/england)   NaN      gb    circle   \n",
       "3 1956-10-10 21:00:00                  edna    tx      us    circle   \n",
       "4 1960-10-10 20:00:00               kaneohe    hi      us     light   \n",
       "\n",
       "  duration (seconds)                                           comments  \\\n",
       "0               2700  This event took place in early fall around 194...   \n",
       "1               7200  1949 Lackland AFB&#44 TX.  Lights racing acros...   \n",
       "2                 20  Green/Orange circular disc over Chester&#44 En...   \n",
       "3                 20  My older brother and twin sister were leaving ...   \n",
       "4                900  AS a Marine 1st Lt. flying an FJ4B fighter/att...   \n",
       "\n",
       "  date posted    latitude   longitude        date      time  \\\n",
       "0  2004-04-27  29.8830556  -97.941111  1949-10-10  20:30:00   \n",
       "1  2005-12-16    29.38421  -98.581082  1949-10-10  21:00:00   \n",
       "2  2008-01-21        53.2   -2.916667  1955-10-10  17:00:00   \n",
       "3  2004-01-17  28.9783333  -96.645833  1956-10-10  21:00:00   \n",
       "4  2004-01-22  21.4180556 -157.803611  1960-10-10  20:00:00   \n",
       "\n",
       "   duration (minutes)  duration (hours)  \n",
       "0           45.000000          0.750000  \n",
       "1          120.000000          2.000000  \n",
       "2            0.333333          0.005556  \n",
       "3            0.333333          0.005556  \n",
       "4           15.000000          0.250000  "
      ]
     },
     "execution_count": 9,
     "metadata": {},
     "output_type": "execute_result"
    }
   ],
   "source": [
    "# check date posted data type\n",
    "\n",
    "# Replace '24:00' with '00:00' in the datetime column\n",
    "ufo['date posted'] = ufo['date posted'].str.extract('([0-9]+/[0-9]+/[0-9]+)')\n",
    "\n",
    "\n",
    "# Convert the 'datetime' column to datetime type\n",
    "ufo['date posted'] = pd.to_datetime(ufo['date posted'])\n",
    "\n",
    "\n",
    "# Print the modified dataframe\n",
    "ufo.head()"
   ]
  },
  {
   "cell_type": "code",
   "execution_count": 10,
   "metadata": {},
   "outputs": [
    {
     "data": {
      "text/html": [
       "<div>\n",
       "<style scoped>\n",
       "    .dataframe tbody tr th:only-of-type {\n",
       "        vertical-align: middle;\n",
       "    }\n",
       "\n",
       "    .dataframe tbody tr th {\n",
       "        vertical-align: top;\n",
       "    }\n",
       "\n",
       "    .dataframe thead th {\n",
       "        text-align: right;\n",
       "    }\n",
       "</style>\n",
       "<table border=\"1\" class=\"dataframe\">\n",
       "  <thead>\n",
       "    <tr style=\"text-align: right;\">\n",
       "      <th></th>\n",
       "      <th>datetime</th>\n",
       "      <th>city</th>\n",
       "      <th>state</th>\n",
       "      <th>country</th>\n",
       "      <th>shape</th>\n",
       "      <th>duration (seconds)</th>\n",
       "      <th>comments</th>\n",
       "      <th>date posted</th>\n",
       "      <th>latitude</th>\n",
       "      <th>longitude</th>\n",
       "      <th>date</th>\n",
       "      <th>time</th>\n",
       "      <th>duration (minutes)</th>\n",
       "      <th>duration (hours)</th>\n",
       "    </tr>\n",
       "  </thead>\n",
       "  <tbody>\n",
       "    <tr>\n",
       "      <th>0</th>\n",
       "      <td>1949-10-10 20:30:00</td>\n",
       "      <td>san marcos</td>\n",
       "      <td>tx</td>\n",
       "      <td>us</td>\n",
       "      <td>cylinder</td>\n",
       "      <td>2700</td>\n",
       "      <td>This event took place in early fall around 194...</td>\n",
       "      <td>2004-04-27</td>\n",
       "      <td>29.8830556</td>\n",
       "      <td>-97.941111</td>\n",
       "      <td>1949-10-10</td>\n",
       "      <td>20:30:00</td>\n",
       "      <td>45.000000</td>\n",
       "      <td>0.750000</td>\n",
       "    </tr>\n",
       "    <tr>\n",
       "      <th>1</th>\n",
       "      <td>1949-10-10 21:00:00</td>\n",
       "      <td>lackland afb</td>\n",
       "      <td>tx</td>\n",
       "      <td>NaN</td>\n",
       "      <td>light</td>\n",
       "      <td>7200</td>\n",
       "      <td>1949 Lackland AFB&amp;#44 TX.  Lights racing acros...</td>\n",
       "      <td>2005-12-16</td>\n",
       "      <td>29.38421</td>\n",
       "      <td>-98.581082</td>\n",
       "      <td>1949-10-10</td>\n",
       "      <td>21:00:00</td>\n",
       "      <td>120.000000</td>\n",
       "      <td>2.000000</td>\n",
       "    </tr>\n",
       "    <tr>\n",
       "      <th>2</th>\n",
       "      <td>1955-10-10 17:00:00</td>\n",
       "      <td>chester (uk/england)</td>\n",
       "      <td>NaN</td>\n",
       "      <td>gb</td>\n",
       "      <td>circle</td>\n",
       "      <td>20</td>\n",
       "      <td>Green/Orange circular disc over Chester&amp;#44 En...</td>\n",
       "      <td>2008-01-21</td>\n",
       "      <td>53.2</td>\n",
       "      <td>-2.916667</td>\n",
       "      <td>1955-10-10</td>\n",
       "      <td>17:00:00</td>\n",
       "      <td>0.333333</td>\n",
       "      <td>0.005556</td>\n",
       "    </tr>\n",
       "    <tr>\n",
       "      <th>3</th>\n",
       "      <td>1956-10-10 21:00:00</td>\n",
       "      <td>edna</td>\n",
       "      <td>tx</td>\n",
       "      <td>us</td>\n",
       "      <td>circle</td>\n",
       "      <td>20</td>\n",
       "      <td>My older brother and twin sister were leaving ...</td>\n",
       "      <td>2004-01-17</td>\n",
       "      <td>28.9783333</td>\n",
       "      <td>-96.645833</td>\n",
       "      <td>1956-10-10</td>\n",
       "      <td>21:00:00</td>\n",
       "      <td>0.333333</td>\n",
       "      <td>0.005556</td>\n",
       "    </tr>\n",
       "    <tr>\n",
       "      <th>4</th>\n",
       "      <td>1960-10-10 20:00:00</td>\n",
       "      <td>kaneohe</td>\n",
       "      <td>hi</td>\n",
       "      <td>us</td>\n",
       "      <td>light</td>\n",
       "      <td>900</td>\n",
       "      <td>AS a Marine 1st Lt. flying an FJ4B fighter/att...</td>\n",
       "      <td>2004-01-22</td>\n",
       "      <td>21.4180556</td>\n",
       "      <td>-157.803611</td>\n",
       "      <td>1960-10-10</td>\n",
       "      <td>20:00:00</td>\n",
       "      <td>15.000000</td>\n",
       "      <td>0.250000</td>\n",
       "    </tr>\n",
       "  </tbody>\n",
       "</table>\n",
       "</div>"
      ],
      "text/plain": [
       "             datetime                  city state country     shape  \\\n",
       "0 1949-10-10 20:30:00            san marcos    tx      us  cylinder   \n",
       "1 1949-10-10 21:00:00          lackland afb    tx     NaN     light   \n",
       "2 1955-10-10 17:00:00  chester (uk/england)   NaN      gb    circle   \n",
       "3 1956-10-10 21:00:00                  edna    tx      us    circle   \n",
       "4 1960-10-10 20:00:00               kaneohe    hi      us     light   \n",
       "\n",
       "  duration (seconds)                                           comments  \\\n",
       "0               2700  This event took place in early fall around 194...   \n",
       "1               7200  1949 Lackland AFB&#44 TX.  Lights racing acros...   \n",
       "2                 20  Green/Orange circular disc over Chester&#44 En...   \n",
       "3                 20  My older brother and twin sister were leaving ...   \n",
       "4                900  AS a Marine 1st Lt. flying an FJ4B fighter/att...   \n",
       "\n",
       "  date posted    latitude   longitude        date      time  \\\n",
       "0  2004-04-27  29.8830556  -97.941111  1949-10-10  20:30:00   \n",
       "1  2005-12-16    29.38421  -98.581082  1949-10-10  21:00:00   \n",
       "2  2008-01-21        53.2   -2.916667  1955-10-10  17:00:00   \n",
       "3  2004-01-17  28.9783333  -96.645833  1956-10-10  21:00:00   \n",
       "4  2004-01-22  21.4180556 -157.803611  1960-10-10  20:00:00   \n",
       "\n",
       "   duration (minutes)  duration (hours)  \n",
       "0           45.000000          0.750000  \n",
       "1          120.000000          2.000000  \n",
       "2            0.333333          0.005556  \n",
       "3            0.333333          0.005556  \n",
       "4           15.000000          0.250000  "
      ]
     },
     "execution_count": 10,
     "metadata": {},
     "output_type": "execute_result"
    }
   ],
   "source": [
    "# Convert type of date posted column to date\n",
    "ufo['date posted'] = pd.to_datetime(ufo['date posted'], format='%d/%m/%Y')\n",
    "ufo.head()"
   ]
  },
  {
   "cell_type": "code",
   "execution_count": 11,
   "metadata": {},
   "outputs": [
    {
     "data": {
      "text/plain": [
       "datetime              datetime64[ns]\n",
       "city                          object\n",
       "state                         object\n",
       "country                       object\n",
       "shape                         object\n",
       "duration (seconds)            object\n",
       "comments                      object\n",
       "date posted           datetime64[ns]\n",
       "latitude                      object\n",
       "longitude                    float64\n",
       "date                          object\n",
       "time                          object\n",
       "duration (minutes)           float64\n",
       "duration (hours)             float64\n",
       "dtype: object"
      ]
     },
     "execution_count": 11,
     "metadata": {},
     "output_type": "execute_result"
    }
   ],
   "source": [
    "ufo.dtypes"
   ]
  },
  {
   "cell_type": "code",
   "execution_count": 12,
   "metadata": {},
   "outputs": [
    {
     "data": {
      "text/plain": [
       "Index(['datetime', 'city', 'state', 'country', 'shape', 'duration (seconds)',\n",
       "       'comments', 'date posted', 'latitude', 'longitude', 'date', 'time',\n",
       "       'duration (minutes)', 'duration (hours)'],\n",
       "      dtype='object')"
      ]
     },
     "execution_count": 12,
     "metadata": {},
     "output_type": "execute_result"
    }
   ],
   "source": [
    "ufo.columns"
   ]
  },
  {
   "cell_type": "code",
   "execution_count": 13,
   "metadata": {},
   "outputs": [
    {
     "name": "stderr",
     "output_type": "stream",
     "text": [
      "C:\\Users\\61450\\AppData\\Local\\Temp\\ipykernel_20600\\3679499848.py:3: SettingWithCopyWarning: \n",
      "A value is trying to be set on a copy of a slice from a DataFrame\n",
      "\n",
      "See the caveats in the documentation: https://pandas.pydata.org/pandas-docs/stable/user_guide/indexing.html#returning-a-view-versus-a-copy\n",
      "  ufo['latitude'].iloc[i] = float(ufo['latitude'].iloc[i])\n",
      "C:\\Users\\61450\\AppData\\Local\\Temp\\ipykernel_20600\\3679499848.py:4: SettingWithCopyWarning: \n",
      "A value is trying to be set on a copy of a slice from a DataFrame\n",
      "\n",
      "See the caveats in the documentation: https://pandas.pydata.org/pandas-docs/stable/user_guide/indexing.html#returning-a-view-versus-a-copy\n",
      "  ufo['longitude'].iloc[i] = float(ufo['longitude'].iloc[i])\n",
      "C:\\Users\\61450\\AppData\\Local\\Temp\\ipykernel_20600\\3679499848.py:7: SettingWithCopyWarning: \n",
      "A value is trying to be set on a copy of a slice from a DataFrame\n",
      "\n",
      "See the caveats in the documentation: https://pandas.pydata.org/pandas-docs/stable/user_guide/indexing.html#returning-a-view-versus-a-copy\n",
      "  ufo['latitude'].iloc[i] = re.sub(r\"[^0-9.]\", \"\", str(ufo['latitude'].iloc[i]))\n",
      "C:\\Users\\61450\\AppData\\Local\\Temp\\ipykernel_20600\\3679499848.py:8: SettingWithCopyWarning: \n",
      "A value is trying to be set on a copy of a slice from a DataFrame\n",
      "\n",
      "See the caveats in the documentation: https://pandas.pydata.org/pandas-docs/stable/user_guide/indexing.html#returning-a-view-versus-a-copy\n",
      "  ufo['longitude'].iloc[i] = re.sub(r\"[^0-9.]\", \"\", str(ufo['longitude'].iloc[i]))\n",
      "C:\\Users\\61450\\AppData\\Local\\Temp\\ipykernel_20600\\3679499848.py:9: SettingWithCopyWarning: \n",
      "A value is trying to be set on a copy of a slice from a DataFrame\n",
      "\n",
      "See the caveats in the documentation: https://pandas.pydata.org/pandas-docs/stable/user_guide/indexing.html#returning-a-view-versus-a-copy\n",
      "  ufo['latitude'].iloc[i] = float(ufo['latitude'].iloc[i])\n"
     ]
    }
   ],
   "source": [
    "for i in range(len(ufo)):\n",
    "    try:\n",
    "        ufo['latitude'].iloc[i] = float(ufo['latitude'].iloc[i])\n",
    "        ufo['longitude'].iloc[i] = float(ufo['longitude'].iloc[i])\n",
    "    except:\n",
    "        # Remove all characters except numbers and dots\n",
    "        ufo['latitude'].iloc[i] = re.sub(r\"[^0-9.]\", \"\", str(ufo['latitude'].iloc[i]))\n",
    "        ufo['longitude'].iloc[i] = re.sub(r\"[^0-9.]\", \"\", str(ufo['longitude'].iloc[i]))\n",
    "        ufo['latitude'].iloc[i] = float(ufo['latitude'].iloc[i])\n",
    "        ufo['longitude'].iloc[i] = float(ufo['longitude'].iloc[i])"
   ]
  },
  {
   "cell_type": "code",
   "execution_count": 14,
   "metadata": {},
   "outputs": [
    {
     "name": "stdout",
     "output_type": "stream",
     "text": [
      "Number of duplicate rows: 2\n",
      "Number of duplicate rows: 0\n"
     ]
    }
   ],
   "source": [
    "# check for duplicate rows\n",
    "duplicates = ufo.duplicated()\n",
    "\n",
    "# print the number of duplicate rows\n",
    "print('Number of duplicate rows:', duplicates.sum())\n",
    "\n",
    "# remove duplicate rows\n",
    "ufo.drop_duplicates(inplace=True)\n",
    "duplicates = ufo.duplicated()\n",
    "ufo.index = np.arange(0, len(ufo))\n",
    "print('Number of duplicate rows:', ufo.duplicated().sum())"
   ]
  },
  {
   "cell_type": "code",
   "execution_count": 15,
   "metadata": {},
   "outputs": [
    {
     "name": "stdout",
     "output_type": "stream",
     "text": [
      "                     null\n",
      "datetime                0\n",
      "city                  196\n",
      "state                7519\n",
      "country             12561\n",
      "shape                3118\n",
      "duration (seconds)      2\n",
      "comments              126\n",
      "date posted           187\n",
      "latitude                0\n",
      "longitude               0\n",
      "date                    0\n",
      "time                    0\n",
      "duration (minutes)      2\n",
      "duration (hours)        2\n"
     ]
    }
   ],
   "source": [
    "#check for missing data\n",
    "missing = pd.DataFrame({'null': ufo.isnull().sum()})\n",
    "print(missing.head(ufo.shape[1]))"
   ]
  },
  {
   "cell_type": "code",
   "execution_count": 16,
   "metadata": {},
   "outputs": [
    {
     "data": {
      "text/plain": [
       "(88873, 14)"
      ]
     },
     "execution_count": 16,
     "metadata": {},
     "output_type": "execute_result"
    }
   ],
   "source": [
    "ufo.shape"
   ]
  },
  {
   "cell_type": "code",
   "execution_count": 17,
   "metadata": {},
   "outputs": [
    {
     "name": "stdout",
     "output_type": "stream",
     "text": [
      "null    0.035084\n",
      "Name: shape, dtype: float64\n"
     ]
    }
   ],
   "source": [
    "print(missing.loc['shape'] / ufo.shape[0]) # the ratio of the shape missing values to the shape of data values is 3.5% (small) so we can drop it without effecting to the data\n",
    "non_missing_shape_index = ufo['shape'].dropna(inplace=False).index\n",
    "ufo = ufo.iloc[non_missing_shape_index]"
   ]
  },
  {
   "cell_type": "code",
   "execution_count": 18,
   "metadata": {},
   "outputs": [
    {
     "data": {
      "text/plain": [
       "(85755, 14)"
      ]
     },
     "execution_count": 18,
     "metadata": {},
     "output_type": "execute_result"
    }
   ],
   "source": [
    "ufo.shape"
   ]
  },
  {
   "cell_type": "code",
   "execution_count": 19,
   "metadata": {},
   "outputs": [
    {
     "name": "stdout",
     "output_type": "stream",
     "text": [
      "datetime                  0\n",
      "city                      0\n",
      "state                  7150\n",
      "country               11807\n",
      "shape                     0\n",
      "duration (seconds)        2\n",
      "comments                  8\n",
      "date posted               0\n",
      "latitude                  0\n",
      "longitude                 0\n",
      "date                      0\n",
      "time                      0\n",
      "duration (minutes)        2\n",
      "duration (hours)          2\n",
      "dtype: int64\n"
     ]
    }
   ],
   "source": [
    "print(ufo.isnull().sum())"
   ]
  },
  {
   "cell_type": "code",
   "execution_count": 20,
   "metadata": {},
   "outputs": [],
   "source": [
    "# rewrite data index\n",
    "ufo.index = np.arange(0, len(ufo))"
   ]
  },
  {
   "cell_type": "code",
   "execution_count": 21,
   "metadata": {},
   "outputs": [
    {
     "data": {
      "text/plain": [
       "0"
      ]
     },
     "execution_count": 21,
     "metadata": {},
     "output_type": "execute_result"
    }
   ],
   "source": [
    "ufo['comments'].fillna('no comment', inplace=True)\n",
    "ufo['comments'].isnull().sum()"
   ]
  },
  {
   "cell_type": "code",
   "execution_count": 22,
   "metadata": {},
   "outputs": [
    {
     "data": {
      "text/plain": [
       "0"
      ]
     },
     "execution_count": 22,
     "metadata": {},
     "output_type": "execute_result"
    }
   ],
   "source": [
    "ufo['state'].fillna('unknown', inplace=True)\n",
    "ufo['state'].isnull().sum()"
   ]
  },
  {
   "cell_type": "code",
   "execution_count": 23,
   "metadata": {},
   "outputs": [
    {
     "data": {
      "text/plain": [
       "0"
      ]
     },
     "execution_count": 23,
     "metadata": {},
     "output_type": "execute_result"
    }
   ],
   "source": [
    "ufo['country'].fillna('unknown', inplace=True)\n",
    "ufo['country'].isnull().sum()"
   ]
  },
  {
   "cell_type": "code",
   "execution_count": 24,
   "metadata": {},
   "outputs": [
    {
     "data": {
      "text/plain": [
       "0"
      ]
     },
     "execution_count": 24,
     "metadata": {},
     "output_type": "execute_result"
    }
   ],
   "source": [
    "ufo['duration (minutes)'].fillna('unknown', inplace=True)\n",
    "ufo['duration (minutes)'].isnull().sum()"
   ]
  },
  {
   "cell_type": "code",
   "execution_count": 25,
   "metadata": {},
   "outputs": [
    {
     "data": {
      "text/plain": [
       "0"
      ]
     },
     "execution_count": 25,
     "metadata": {},
     "output_type": "execute_result"
    }
   ],
   "source": [
    "ufo['duration (seconds)'].fillna('unknown', inplace=True)\n",
    "ufo['duration (seconds)'].isnull().sum()"
   ]
  },
  {
   "cell_type": "code",
   "execution_count": 26,
   "metadata": {},
   "outputs": [
    {
     "data": {
      "text/plain": [
       "0"
      ]
     },
     "execution_count": 26,
     "metadata": {},
     "output_type": "execute_result"
    }
   ],
   "source": [
    "ufo['duration (hours)'].fillna('unknown', inplace=True)\n",
    "ufo['duration (hours)'].isnull().sum()"
   ]
  },
  {
   "cell_type": "code",
   "execution_count": 27,
   "metadata": {},
   "outputs": [
    {
     "name": "stdout",
     "output_type": "stream",
     "text": [
      "datetime              0\n",
      "city                  0\n",
      "state                 0\n",
      "country               0\n",
      "shape                 0\n",
      "duration (seconds)    0\n",
      "comments              0\n",
      "date posted           0\n",
      "latitude              0\n",
      "longitude             0\n",
      "date                  0\n",
      "time                  0\n",
      "duration (minutes)    0\n",
      "duration (hours)      0\n",
      "dtype: int64\n"
     ]
    }
   ],
   "source": [
    "print(ufo.isnull().sum())"
   ]
  },
  {
   "cell_type": "code",
   "execution_count": 42,
   "metadata": {},
   "outputs": [],
   "source": [
    "ufo = ufo.rename(columns={'duration (seconds)': 'duration_seconds', \n",
    "                          'date posted': 'date_posted',\n",
    "                          'duration (minutes)': 'duration_minutes',\n",
    "                          'duration (hours)': 'duration_hours'})"
   ]
  },
  {
   "cell_type": "code",
   "execution_count": 46,
   "metadata": {},
   "outputs": [],
   "source": [
    "ufo = ufo.drop(ufo[(ufo['duration_seconds'] == 'unknown') & (ufo['duration_minutes'] == 'unknown') & (ufo['duration_hours'] == 'unknown')].index)"
   ]
  },
  {
   "cell_type": "code",
   "execution_count": 47,
   "metadata": {},
   "outputs": [
    {
     "data": {
      "text/plain": [
       "datetime            datetime64[ns]\n",
       "city                        object\n",
       "state                       object\n",
       "country                     object\n",
       "shape                       object\n",
       "duration_seconds            object\n",
       "comments                    object\n",
       "date_posted         datetime64[ns]\n",
       "latitude                    object\n",
       "longitude                   object\n",
       "date                        object\n",
       "time                        object\n",
       "duration_minutes            object\n",
       "duration_hours              object\n",
       "dtype: object"
      ]
     },
     "execution_count": 47,
     "metadata": {},
     "output_type": "execute_result"
    }
   ],
   "source": [
    "ufo.dtypes"
   ]
  },
  {
   "cell_type": "code",
   "execution_count": 49,
   "metadata": {},
   "outputs": [],
   "source": [
    "# Specify the file path and name\n",
    "csv_file = 'Resources/ufo.csv'\n",
    "\n",
    "# Export the DataFrame to CSV\n",
    "ufo.to_csv(csv_file, index=False)"
   ]
  },
  {
   "cell_type": "code",
   "execution_count": 6,
   "metadata": {},
   "outputs": [
    {
     "data": {
      "text/html": [
       "<div>\n",
       "<style scoped>\n",
       "    .dataframe tbody tr th:only-of-type {\n",
       "        vertical-align: middle;\n",
       "    }\n",
       "\n",
       "    .dataframe tbody tr th {\n",
       "        vertical-align: top;\n",
       "    }\n",
       "\n",
       "    .dataframe thead th {\n",
       "        text-align: right;\n",
       "    }\n",
       "</style>\n",
       "<table border=\"1\" class=\"dataframe\">\n",
       "  <thead>\n",
       "    <tr style=\"text-align: right;\">\n",
       "      <th></th>\n",
       "      <th>datetime</th>\n",
       "      <th>city</th>\n",
       "      <th>state</th>\n",
       "      <th>country</th>\n",
       "      <th>shape</th>\n",
       "      <th>duration_seconds</th>\n",
       "      <th>comments</th>\n",
       "      <th>date_posted</th>\n",
       "      <th>latitude</th>\n",
       "      <th>longitude</th>\n",
       "      <th>date</th>\n",
       "      <th>time</th>\n",
       "      <th>duration_minutes</th>\n",
       "      <th>duration_hours</th>\n",
       "    </tr>\n",
       "  </thead>\n",
       "  <tbody>\n",
       "    <tr>\n",
       "      <th>0</th>\n",
       "      <td>2001-10-10 04:33:00</td>\n",
       "      <td>sydney (nsw&amp;#44 australia)</td>\n",
       "      <td>unknown</td>\n",
       "      <td>au</td>\n",
       "      <td>formation</td>\n",
       "      <td>180.0</td>\n",
       "      <td>formation and impact</td>\n",
       "      <td>2001-11-20</td>\n",
       "      <td>-33.861481</td>\n",
       "      <td>151.205475</td>\n",
       "      <td>2001-10-10</td>\n",
       "      <td>04:33:00</td>\n",
       "      <td>3.0</td>\n",
       "      <td>0.050000</td>\n",
       "    </tr>\n",
       "    <tr>\n",
       "      <th>1</th>\n",
       "      <td>2002-10-10 04:00:00</td>\n",
       "      <td>adelaide (pt. wakefield) (south australia)</td>\n",
       "      <td>unknown</td>\n",
       "      <td>au</td>\n",
       "      <td>circle</td>\n",
       "      <td>600.0</td>\n",
       "      <td>one light became 3</td>\n",
       "      <td>2002-10-28</td>\n",
       "      <td>-34.928661</td>\n",
       "      <td>138.598633</td>\n",
       "      <td>2002-10-10</td>\n",
       "      <td>04:00:00</td>\n",
       "      <td>10.0</td>\n",
       "      <td>0.166667</td>\n",
       "    </tr>\n",
       "  </tbody>\n",
       "</table>\n",
       "</div>"
      ],
      "text/plain": [
       "              datetime                                        city    state  \\\n",
       "0  2001-10-10 04:33:00                  sydney (nsw&#44 australia)  unknown   \n",
       "1  2002-10-10 04:00:00  adelaide (pt. wakefield) (south australia)  unknown   \n",
       "\n",
       "  country      shape  duration_seconds              comments date_posted  \\\n",
       "0      au  formation             180.0  formation and impact  2001-11-20   \n",
       "1      au     circle             600.0    one light became 3  2002-10-28   \n",
       "\n",
       "    latitude   longitude        date      time  duration_minutes  \\\n",
       "0 -33.861481  151.205475  2001-10-10  04:33:00               3.0   \n",
       "1 -34.928661  138.598633  2002-10-10  04:00:00              10.0   \n",
       "\n",
       "   duration_hours  \n",
       "0        0.050000  \n",
       "1        0.166667  "
      ]
     },
     "execution_count": 6,
     "metadata": {},
     "output_type": "execute_result"
    }
   ],
   "source": [
    "# Import csv with data only for Australia\n",
    "ufo_au = pd.read_csv(\"Resources/total_sightings_au.csv\")\n",
    "ufo_au.head(2)"
   ]
  },
  {
   "cell_type": "code",
   "execution_count": 29,
   "metadata": {},
   "outputs": [],
   "source": [
    "# Select specific columns and add a new column as a placeholder\n",
    "selected_columns = ['state', 'latitude', 'longitude']\n",
    "df_selected = ufo_au.copy()\n",
    "df_selected['new_state'] = None  # Placeholder for future calculation"
   ]
  },
  {
   "cell_type": "code",
   "execution_count": 27,
   "metadata": {},
   "outputs": [],
   "source": [
    "# Create smaller dataframes with only the first 100 rows\n",
    "df_selected_100 = df_selected.head(100)"
   ]
  },
  {
   "cell_type": "code",
   "execution_count": 30,
   "metadata": {},
   "outputs": [
    {
     "name": "stdout",
     "output_type": "stream",
     "text": [
      "                datetime                                               city  \\\n",
      "0    2001-10-10 04:33:00                         sydney (nsw&#44 australia)   \n",
      "1    2002-10-10 04:00:00         adelaide (pt. wakefield) (south australia)   \n",
      "2    2002-10-10 22:00:00                      burnie (tasmania) (australia)   \n",
      "3    2007-10-01 02:00:00                        adelaide  (south australia)   \n",
      "4    1975-10-12 01:00:00  perth (w. of; southern cross) (western australia)   \n",
      "..                   ...                                                ...   \n",
      "572  2001-09-30 23:35:00                     wollongong (nsw&#44 australia)   \n",
      "573  2012-09-04 02:30:00                                  perth (australia)   \n",
      "574  1983-09-07 19:30:00                                 sydney (australia)   \n",
      "575  2008-09-07 19:32:00                               brisbane (australia)   \n",
      "576  2007-09-09 19:01:00                              melbourne (australia)   \n",
      "\n",
      "       state country      shape  duration_seconds  \\\n",
      "0    unknown      au  formation             180.0   \n",
      "1    unknown      au     circle             600.0   \n",
      "2    unknown      au      cross               0.0   \n",
      "3    unknown      au       oval             300.0   \n",
      "4    unknown      au   fireball             900.0   \n",
      "..       ...     ...        ...               ...   \n",
      "572  unknown      au   fireball            1200.0   \n",
      "573  unknown      au     sphere             120.0   \n",
      "574  unknown      au      light              15.0   \n",
      "575  unknown      au  rectangle              60.0   \n",
      "576  unknown      au     circle             600.0   \n",
      "\n",
      "                                              comments date_posted   latitude  \\\n",
      "0                                 formation and impact  2001-11-20 -33.861481   \n",
      "1                                   one light became 3  2002-10-28 -34.928661   \n",
      "2                        the craft was large and noisy  2005-07-13 -41.055840   \n",
      "3    Dancing &amp; Flashing UFO in Glenelg&#44 Sout...  2007-10-08 -34.928661   \n",
      "4                                fire ball and min min  2004-06-18 -31.952240   \n",
      "..                                                 ...         ...        ...   \n",
      "572                   Fireball object flying silently.  2001-10-12 -34.424000   \n",
      "573                                   Large orange orb  2012-09-24 -31.952240   \n",
      "574               Moving light in Sydney&#44 Australia  2012-03-13 -33.861481   \n",
      "575  slow moving rectangle object at low altitude p...  2008-10-31 -27.471010   \n",
      "576                                            Hostile  2007-10-08 -37.813938   \n",
      "\n",
      "      longitude        date      time  duration_minutes  duration_hours  \\\n",
      "0    151.205475  2001-10-10  04:33:00              3.00        0.050000   \n",
      "1    138.598633  2002-10-10  04:00:00             10.00        0.166667   \n",
      "2    145.903748  2002-10-10  22:00:00              0.00        0.000000   \n",
      "3    138.598633  2007-10-01  02:00:00              5.00        0.083333   \n",
      "4    115.861397  1975-10-12  01:00:00             15.00        0.250000   \n",
      "..          ...         ...       ...               ...             ...   \n",
      "572  150.893448  2001-09-30  23:35:00             20.00        0.333333   \n",
      "573  115.861397  2012-09-04  02:30:00              2.00        0.033333   \n",
      "574  151.205475  1983-09-07  19:30:00              0.25        0.004167   \n",
      "575  153.024292  2008-09-07  19:32:00              1.00        0.016667   \n",
      "576  144.963425  2007-09-09  19:01:00             10.00        0.166667   \n",
      "\n",
      "     state_new          new_state  \n",
      "0            0    New South Wales  \n",
      "1            1    South Australia  \n",
      "2            2           Tasmania  \n",
      "3            3    South Australia  \n",
      "4            4  Western Australia  \n",
      "..         ...                ...  \n",
      "572        572    New South Wales  \n",
      "573        573  Western Australia  \n",
      "574        574    New South Wales  \n",
      "575        575         Queensland  \n",
      "576        576           Victoria  \n",
      "\n",
      "[577 rows x 16 columns]\n"
     ]
    }
   ],
   "source": [
    "# Find States based on the coordinates\n",
    "from geopy.geocoders import Nominatim\n",
    "\n",
    "# Initialize the geocoder\n",
    "geolocator = Nominatim(user_agent=\"my_geocoder\")\n",
    "\n",
    "# Function to get the state for a given pair of latitude and longitude\n",
    "def get_state(latitude, longitude):\n",
    "    location = geolocator.reverse((latitude, longitude), exactly_one=True)\n",
    "    address = location.raw['address']\n",
    "    state = address.get('state', '')\n",
    "    return state\n",
    "\n",
    "# Apply the function to the dataframe and create a new 'State' column\n",
    "df_selected ['new_state'] = df_selected.apply(lambda row: get_state(row['latitude'], row['longitude']), axis=1)\n",
    "\n",
    "# Print the dataframe with the 'State' column\n",
    "print(df_selected)"
   ]
  },
  {
   "cell_type": "code",
   "execution_count": 32,
   "metadata": {},
   "outputs": [],
   "source": [
    "# Specify the file path and name\n",
    "csv_file = 'Resources/ufo_au_new_state.csv'\n",
    "\n",
    "# Export the DataFrame to CSV\n",
    "df_selected.to_csv(csv_file, index=False)"
   ]
  }
 ],
 "metadata": {
  "kernelspec": {
   "display_name": "dev2",
   "language": "python",
   "name": "python3"
  },
  "language_info": {
   "codemirror_mode": {
    "name": "ipython",
    "version": 3
   },
   "file_extension": ".py",
   "mimetype": "text/x-python",
   "name": "python",
   "nbconvert_exporter": "python",
   "pygments_lexer": "ipython3",
   "version": "3.10.10"
  },
  "orig_nbformat": 4
 },
 "nbformat": 4,
 "nbformat_minor": 2
}
